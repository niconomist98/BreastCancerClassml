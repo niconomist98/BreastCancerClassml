{
 "cells": [
  {
   "cell_type": "markdown",
   "metadata": {},
   "source": [
    "## Importing libraries"
   ]
  },
  {
   "cell_type": "code",
   "execution_count": 90,
   "metadata": {
    "collapsed": true
   },
   "outputs": [],
   "source": [
    "import pandas as pd\n",
    "import numpy as np\n",
    "import matplotlib as plt\n",
    "import sklearn\n",
    "import matplotlib.pyplot as plt\n",
    "import seaborn as sns\n",
    "from sklearn import preprocessing\n",
    "from sklearn import model_selection\n",
    "from sklearn.model_selection import train_test_split\n",
    "from sklearn.linear_model import LogisticRegression\n",
    "from sklearn.svm import SVC\n",
    "from sklearn.naive_bayes import GaussianNB\n",
    "from sklearn.tree import DecisionTreeClassifier\n",
    "import plotly.express as px\n",
    "from sklearn.model_selection import GridSearchCV\n",
    "from sklearn.metrics import plot_confusion_matrix\n",
    "from sklearn.metrics import classification_report\n",
    "from sklearn.metrics import confusion_matrix\n",
    "from sklearn.metrics import plot_precision_recall_curve\n",
    "from sklearn.inspection import permutation_importance\n",
    "from sklearn.impute import KNNImputer\n",
    "from sklearn.ensemble import RandomForestClassifier\n"
   ]
  },
  {
   "cell_type": "markdown",
   "metadata": {},
   "source": [
    "## Reading dataset"
   ]
  },
  {
   "cell_type": "code",
   "execution_count": 91,
   "metadata": {
    "collapsed": false
   },
   "outputs": [],
   "source": [
    "df=pd.read_parquet('../data/interim/breasttdataset15v.parquet')"
   ]
  },
  {
   "cell_type": "code",
   "execution_count": 92,
   "metadata": {
    "collapsed": false
   },
   "outputs": [],
   "source": [
    "#df=df.drop([\"perimeter_se\",\"texture_se\"], axis=1)"
   ]
  },
  {
   "cell_type": "code",
   "execution_count": 93,
   "metadata": {
    "collapsed": false
   },
   "outputs": [
    {
     "data": {
      "text/plain": [
       "radius_worst               float64\n",
       "concavity_worst            float64\n",
       "fractal_dimension_worst    float64\n",
       "texture_worst              float64\n",
       "smoothness_worst           float64\n",
       "symmetry_worst             float64\n",
       "perimeter_se               float64\n",
       "smoothness_se              float64\n",
       "texture_se                 float64\n",
       "fractal_dimension_se       float64\n",
       "symmetry_se                float64\n",
       "diagnosis                  float64\n",
       "symmetry_mean              float64\n",
       "dtype: object"
      ]
     },
     "execution_count": 93,
     "metadata": {},
     "output_type": "execute_result"
    }
   ],
   "source": [
    "df.dtypes"
   ]
  },
  {
   "cell_type": "code",
   "execution_count": 94,
   "metadata": {
    "collapsed": false
   },
   "outputs": [],
   "source": [
    "df['diagnosis']=df[\"diagnosis\"].astype(\"category\")"
   ]
  },
  {
   "cell_type": "markdown",
   "metadata": {},
   "source": [
    "## Spliting dataset into traing and test"
   ]
  },
  {
   "cell_type": "code",
   "execution_count": 95,
   "metadata": {
    "collapsed": false
   },
   "outputs": [],
   "source": [
    "# se toman todas las columnas menos sobreviviente, que es la clase\n",
    "X = df.drop('diagnosis', axis=1)\n",
    "# se selecciona la columna de la clase\n",
    "y = df['diagnosis']\n",
    "# Split dataset into training set and test set\n",
    "#random_state generador de numero aleatorios (semilla usada por el generador)\n",
    "X_train, X_test, y_train, y_test = train_test_split(X, y, test_size=0.3, random_state=1,shuffle=True) # 70% training and 30% test"
   ]
  },
  {
   "cell_type": "code",
   "execution_count": 96,
   "metadata": {
    "collapsed": false
   },
   "outputs": [],
   "source": [
    "X_train, X_val, y_train, y_val = train_test_split(X_train, y_train,\n",
    "    test_size=0.25, random_state= 8)"
   ]
  },
  {
   "cell_type": "markdown",
   "metadata": {},
   "source": [
    "## Scalating variables"
   ]
  },
  {
   "cell_type": "code",
   "execution_count": 97,
   "metadata": {
    "collapsed": false
   },
   "outputs": [],
   "source": [
    "from sklearn.preprocessing import StandardScaler\n",
    "from sklearn.model_selection import train_test_split # Import train_test_split function\n",
    "\n",
    "tipificado = StandardScaler().fit(X_train)\n",
    "standardized_X = tipificado.transform(X_train)\n",
    "standardized_X_val = tipificado.transform(X_val)"
   ]
  },
  {
   "cell_type": "code",
   "execution_count": 98,
   "metadata": {
    "collapsed": false
   },
   "outputs": [
    {
     "data": {
      "text/html": [
       "<div>\n",
       "<style scoped>\n",
       "    .dataframe tbody tr th:only-of-type {\n",
       "        vertical-align: middle;\n",
       "    }\n",
       "\n",
       "    .dataframe tbody tr th {\n",
       "        vertical-align: top;\n",
       "    }\n",
       "\n",
       "    .dataframe thead th {\n",
       "        text-align: right;\n",
       "    }\n",
       "</style>\n",
       "<table border=\"1\" class=\"dataframe\">\n",
       "  <thead>\n",
       "    <tr style=\"text-align: right;\">\n",
       "      <th></th>\n",
       "      <th>radius_worst</th>\n",
       "      <th>concavity_worst</th>\n",
       "      <th>fractal_dimension_worst</th>\n",
       "      <th>texture_worst</th>\n",
       "      <th>smoothness_worst</th>\n",
       "      <th>symmetry_worst</th>\n",
       "      <th>perimeter_se</th>\n",
       "      <th>smoothness_se</th>\n",
       "      <th>texture_se</th>\n",
       "      <th>fractal_dimension_se</th>\n",
       "      <th>symmetry_se</th>\n",
       "      <th>symmetry_mean</th>\n",
       "    </tr>\n",
       "  </thead>\n",
       "  <tbody>\n",
       "    <tr>\n",
       "      <th>288</th>\n",
       "      <td>13.72</td>\n",
       "      <td>0.003581</td>\n",
       "      <td>0.05521</td>\n",
       "      <td>20.98</td>\n",
       "      <td>0.09293</td>\n",
       "      <td>0.2233</td>\n",
       "      <td>2329.0000</td>\n",
       "      <td>0.005783</td>\n",
       "      <td>0.9527</td>\n",
       "      <td>0.001058</td>\n",
       "      <td>0.020430</td>\n",
       "      <td>0.1528</td>\n",
       "    </tr>\n",
       "    <tr>\n",
       "      <th>412</th>\n",
       "      <td>18.13</td>\n",
       "      <td>0.166300</td>\n",
       "      <td>0.06469</td>\n",
       "      <td>25.45</td>\n",
       "      <td>0.13380</td>\n",
       "      <td>0.2394</td>\n",
       "      <td>2344.0000</td>\n",
       "      <td>0.007257</td>\n",
       "      <td>1439.0000</td>\n",
       "      <td>0.002001</td>\n",
       "      <td>0.016940</td>\n",
       "      <td>0.1495</td>\n",
       "    </tr>\n",
       "    <tr>\n",
       "      <th>340</th>\n",
       "      <td>14.04</td>\n",
       "      <td>0.179100</td>\n",
       "      <td>0.08553</td>\n",
       "      <td>21.08</td>\n",
       "      <td>0.15470</td>\n",
       "      <td>0.2382</td>\n",
       "      <td>1614.0000</td>\n",
       "      <td>0.005910</td>\n",
       "      <td>1042.0000</td>\n",
       "      <td>0.003107</td>\n",
       "      <td>0.012020</td>\n",
       "      <td>0.1543</td>\n",
       "    </tr>\n",
       "    <tr>\n",
       "      <th>511</th>\n",
       "      <td>14.99</td>\n",
       "      <td>0.023980</td>\n",
       "      <td>0.05504</td>\n",
       "      <td>25.20</td>\n",
       "      <td>0.09387</td>\n",
       "      <td>0.1565</td>\n",
       "      <td>NaN</td>\n",
       "      <td>0.006883</td>\n",
       "      <td>2188.0000</td>\n",
       "      <td>0.001754</td>\n",
       "      <td>0.007882</td>\n",
       "      <td>0.1565</td>\n",
       "    </tr>\n",
       "    <tr>\n",
       "      <th>251</th>\n",
       "      <td>19.26</td>\n",
       "      <td>0.379100</td>\n",
       "      <td>0.08019</td>\n",
       "      <td>26.00</td>\n",
       "      <td>0.15460</td>\n",
       "      <td>0.2837</td>\n",
       "      <td>3094.0000</td>\n",
       "      <td>0.006240</td>\n",
       "      <td>0.7859</td>\n",
       "      <td>0.002461</td>\n",
       "      <td>0.013970</td>\n",
       "      <td>0.1931</td>\n",
       "    </tr>\n",
       "    <tr>\n",
       "      <th>...</th>\n",
       "      <td>...</td>\n",
       "      <td>...</td>\n",
       "      <td>...</td>\n",
       "      <td>...</td>\n",
       "      <td>...</td>\n",
       "      <td>...</td>\n",
       "      <td>...</td>\n",
       "      <td>...</td>\n",
       "      <td>...</td>\n",
       "      <td>...</td>\n",
       "      <td>...</td>\n",
       "      <td>...</td>\n",
       "    </tr>\n",
       "    <tr>\n",
       "      <th>166</th>\n",
       "      <td>16.89</td>\n",
       "      <td>0.379600</td>\n",
       "      <td>NaN</td>\n",
       "      <td>35.64</td>\n",
       "      <td>0.14710</td>\n",
       "      <td>NaN</td>\n",
       "      <td>1752.0000</td>\n",
       "      <td>0.004088</td>\n",
       "      <td>1005.0000</td>\n",
       "      <td>0.001465</td>\n",
       "      <td>0.013230</td>\n",
       "      <td>0.1761</td>\n",
       "    </tr>\n",
       "    <tr>\n",
       "      <th>366</th>\n",
       "      <td>13.61</td>\n",
       "      <td>0.179100</td>\n",
       "      <td>0.07592</td>\n",
       "      <td>19.27</td>\n",
       "      <td>0.12920</td>\n",
       "      <td>NaN</td>\n",
       "      <td>0.7714</td>\n",
       "      <td>0.003681</td>\n",
       "      <td>0.4957</td>\n",
       "      <td>0.001366</td>\n",
       "      <td>0.011290</td>\n",
       "      <td>0.1689</td>\n",
       "    </tr>\n",
       "    <tr>\n",
       "      <th>363</th>\n",
       "      <td>13.35</td>\n",
       "      <td>0.142300</td>\n",
       "      <td>0.06306</td>\n",
       "      <td>19.59</td>\n",
       "      <td>0.10960</td>\n",
       "      <td>0.2482</td>\n",
       "      <td>1687.0000</td>\n",
       "      <td>0.005996</td>\n",
       "      <td>0.8355</td>\n",
       "      <td>0.001725</td>\n",
       "      <td>0.020250</td>\n",
       "      <td>0.1667</td>\n",
       "    </tr>\n",
       "    <tr>\n",
       "      <th>515</th>\n",
       "      <td>14.08</td>\n",
       "      <td>0.085390</td>\n",
       "      <td>0.07191</td>\n",
       "      <td>12.49</td>\n",
       "      <td>0.14510</td>\n",
       "      <td>NaN</td>\n",
       "      <td>2652.0000</td>\n",
       "      <td>NaN</td>\n",
       "      <td>1014.0000</td>\n",
       "      <td>0.006164</td>\n",
       "      <td>0.025720</td>\n",
       "      <td>0.2403</td>\n",
       "    </tr>\n",
       "    <tr>\n",
       "      <th>83</th>\n",
       "      <td>12.98</td>\n",
       "      <td>0.160900</td>\n",
       "      <td>0.08251</td>\n",
       "      <td>30.36</td>\n",
       "      <td>0.13110</td>\n",
       "      <td>0.2599</td>\n",
       "      <td>1865.0000</td>\n",
       "      <td>0.008320</td>\n",
       "      <td>1204.0000</td>\n",
       "      <td>0.003674</td>\n",
       "      <td>0.020940</td>\n",
       "      <td>NaN</td>\n",
       "    </tr>\n",
       "  </tbody>\n",
       "</table>\n",
       "<p>298 rows × 12 columns</p>\n",
       "</div>"
      ],
      "text/plain": [
       "     radius_worst  concavity_worst  fractal_dimension_worst  texture_worst  \\\n",
       "288         13.72         0.003581                  0.05521          20.98   \n",
       "412         18.13         0.166300                  0.06469          25.45   \n",
       "340         14.04         0.179100                  0.08553          21.08   \n",
       "511         14.99         0.023980                  0.05504          25.20   \n",
       "251         19.26         0.379100                  0.08019          26.00   \n",
       "..            ...              ...                      ...            ...   \n",
       "166         16.89         0.379600                      NaN          35.64   \n",
       "366         13.61         0.179100                  0.07592          19.27   \n",
       "363         13.35         0.142300                  0.06306          19.59   \n",
       "515         14.08         0.085390                  0.07191          12.49   \n",
       "83          12.98         0.160900                  0.08251          30.36   \n",
       "\n",
       "     smoothness_worst  symmetry_worst  perimeter_se  smoothness_se  \\\n",
       "288           0.09293          0.2233     2329.0000       0.005783   \n",
       "412           0.13380          0.2394     2344.0000       0.007257   \n",
       "340           0.15470          0.2382     1614.0000       0.005910   \n",
       "511           0.09387          0.1565           NaN       0.006883   \n",
       "251           0.15460          0.2837     3094.0000       0.006240   \n",
       "..                ...             ...           ...            ...   \n",
       "166           0.14710             NaN     1752.0000       0.004088   \n",
       "366           0.12920             NaN        0.7714       0.003681   \n",
       "363           0.10960          0.2482     1687.0000       0.005996   \n",
       "515           0.14510             NaN     2652.0000            NaN   \n",
       "83            0.13110          0.2599     1865.0000       0.008320   \n",
       "\n",
       "     texture_se  fractal_dimension_se  symmetry_se  symmetry_mean  \n",
       "288      0.9527              0.001058     0.020430         0.1528  \n",
       "412   1439.0000              0.002001     0.016940         0.1495  \n",
       "340   1042.0000              0.003107     0.012020         0.1543  \n",
       "511   2188.0000              0.001754     0.007882         0.1565  \n",
       "251      0.7859              0.002461     0.013970         0.1931  \n",
       "..          ...                   ...          ...            ...  \n",
       "166   1005.0000              0.001465     0.013230         0.1761  \n",
       "366      0.4957              0.001366     0.011290         0.1689  \n",
       "363      0.8355              0.001725     0.020250         0.1667  \n",
       "515   1014.0000              0.006164     0.025720         0.2403  \n",
       "83    1204.0000              0.003674     0.020940            NaN  \n",
       "\n",
       "[298 rows x 12 columns]"
      ]
     },
     "execution_count": 98,
     "metadata": {},
     "output_type": "execute_result"
    }
   ],
   "source": [
    "X_train"
   ]
  },
  {
   "cell_type": "markdown",
   "metadata": {},
   "source": [
    "## Using Knn imputer"
   ]
  },
  {
   "cell_type": "code",
   "execution_count": 99,
   "metadata": {
    "collapsed": false
   },
   "outputs": [
    {
     "data": {
      "text/html": [
       "<div>\n",
       "<style scoped>\n",
       "    .dataframe tbody tr th:only-of-type {\n",
       "        vertical-align: middle;\n",
       "    }\n",
       "\n",
       "    .dataframe tbody tr th {\n",
       "        vertical-align: top;\n",
       "    }\n",
       "\n",
       "    .dataframe thead th {\n",
       "        text-align: right;\n",
       "    }\n",
       "</style>\n",
       "<table border=\"1\" class=\"dataframe\">\n",
       "  <thead>\n",
       "    <tr style=\"text-align: right;\">\n",
       "      <th></th>\n",
       "      <th>radius_worst</th>\n",
       "      <th>concavity_worst</th>\n",
       "      <th>fractal_dimension_worst</th>\n",
       "      <th>texture_worst</th>\n",
       "      <th>smoothness_worst</th>\n",
       "      <th>symmetry_worst</th>\n",
       "      <th>perimeter_se</th>\n",
       "      <th>smoothness_se</th>\n",
       "      <th>texture_se</th>\n",
       "      <th>fractal_dimension_se</th>\n",
       "      <th>symmetry_se</th>\n",
       "      <th>symmetry_mean</th>\n",
       "    </tr>\n",
       "  </thead>\n",
       "  <tbody>\n",
       "    <tr>\n",
       "      <th>0</th>\n",
       "      <td>13.72</td>\n",
       "      <td>0.003581</td>\n",
       "      <td>0.05521</td>\n",
       "      <td>20.98</td>\n",
       "      <td>0.09293</td>\n",
       "      <td>0.22330</td>\n",
       "      <td>2329.0000</td>\n",
       "      <td>0.005783</td>\n",
       "      <td>0.9527</td>\n",
       "      <td>0.001058</td>\n",
       "      <td>0.020430</td>\n",
       "      <td>0.15280</td>\n",
       "    </tr>\n",
       "    <tr>\n",
       "      <th>1</th>\n",
       "      <td>18.13</td>\n",
       "      <td>0.166300</td>\n",
       "      <td>0.06469</td>\n",
       "      <td>25.45</td>\n",
       "      <td>0.13380</td>\n",
       "      <td>0.23940</td>\n",
       "      <td>2344.0000</td>\n",
       "      <td>0.007257</td>\n",
       "      <td>1439.0000</td>\n",
       "      <td>0.002001</td>\n",
       "      <td>0.016940</td>\n",
       "      <td>0.14950</td>\n",
       "    </tr>\n",
       "    <tr>\n",
       "      <th>2</th>\n",
       "      <td>14.04</td>\n",
       "      <td>0.179100</td>\n",
       "      <td>0.08553</td>\n",
       "      <td>21.08</td>\n",
       "      <td>0.15470</td>\n",
       "      <td>0.23820</td>\n",
       "      <td>1614.0000</td>\n",
       "      <td>0.005910</td>\n",
       "      <td>1042.0000</td>\n",
       "      <td>0.003107</td>\n",
       "      <td>0.012020</td>\n",
       "      <td>0.15430</td>\n",
       "    </tr>\n",
       "    <tr>\n",
       "      <th>3</th>\n",
       "      <td>14.99</td>\n",
       "      <td>0.023980</td>\n",
       "      <td>0.05504</td>\n",
       "      <td>25.20</td>\n",
       "      <td>0.09387</td>\n",
       "      <td>0.15650</td>\n",
       "      <td>1690.0140</td>\n",
       "      <td>0.006883</td>\n",
       "      <td>2188.0000</td>\n",
       "      <td>0.001754</td>\n",
       "      <td>0.007882</td>\n",
       "      <td>0.15650</td>\n",
       "    </tr>\n",
       "    <tr>\n",
       "      <th>4</th>\n",
       "      <td>19.26</td>\n",
       "      <td>0.379100</td>\n",
       "      <td>0.08019</td>\n",
       "      <td>26.00</td>\n",
       "      <td>0.15460</td>\n",
       "      <td>0.28370</td>\n",
       "      <td>3094.0000</td>\n",
       "      <td>0.006240</td>\n",
       "      <td>0.7859</td>\n",
       "      <td>0.002461</td>\n",
       "      <td>0.013970</td>\n",
       "      <td>0.19310</td>\n",
       "    </tr>\n",
       "    <tr>\n",
       "      <th>...</th>\n",
       "      <td>...</td>\n",
       "      <td>...</td>\n",
       "      <td>...</td>\n",
       "      <td>...</td>\n",
       "      <td>...</td>\n",
       "      <td>...</td>\n",
       "      <td>...</td>\n",
       "      <td>...</td>\n",
       "      <td>...</td>\n",
       "      <td>...</td>\n",
       "      <td>...</td>\n",
       "      <td>...</td>\n",
       "    </tr>\n",
       "    <tr>\n",
       "      <th>293</th>\n",
       "      <td>16.89</td>\n",
       "      <td>0.379600</td>\n",
       "      <td>0.08786</td>\n",
       "      <td>35.64</td>\n",
       "      <td>0.14710</td>\n",
       "      <td>0.32090</td>\n",
       "      <td>1752.0000</td>\n",
       "      <td>0.004088</td>\n",
       "      <td>1005.0000</td>\n",
       "      <td>0.001465</td>\n",
       "      <td>0.013230</td>\n",
       "      <td>0.17610</td>\n",
       "    </tr>\n",
       "    <tr>\n",
       "      <th>294</th>\n",
       "      <td>13.61</td>\n",
       "      <td>0.179100</td>\n",
       "      <td>0.07592</td>\n",
       "      <td>19.27</td>\n",
       "      <td>0.12920</td>\n",
       "      <td>0.24026</td>\n",
       "      <td>0.7714</td>\n",
       "      <td>0.003681</td>\n",
       "      <td>0.4957</td>\n",
       "      <td>0.001366</td>\n",
       "      <td>0.011290</td>\n",
       "      <td>0.16890</td>\n",
       "    </tr>\n",
       "    <tr>\n",
       "      <th>295</th>\n",
       "      <td>13.35</td>\n",
       "      <td>0.142300</td>\n",
       "      <td>0.06306</td>\n",
       "      <td>19.59</td>\n",
       "      <td>0.10960</td>\n",
       "      <td>0.24820</td>\n",
       "      <td>1687.0000</td>\n",
       "      <td>0.005996</td>\n",
       "      <td>0.8355</td>\n",
       "      <td>0.001725</td>\n",
       "      <td>0.020250</td>\n",
       "      <td>0.16670</td>\n",
       "    </tr>\n",
       "    <tr>\n",
       "      <th>296</th>\n",
       "      <td>14.08</td>\n",
       "      <td>0.085390</td>\n",
       "      <td>0.07191</td>\n",
       "      <td>12.49</td>\n",
       "      <td>0.14510</td>\n",
       "      <td>0.31326</td>\n",
       "      <td>2652.0000</td>\n",
       "      <td>0.006459</td>\n",
       "      <td>1014.0000</td>\n",
       "      <td>0.006164</td>\n",
       "      <td>0.025720</td>\n",
       "      <td>0.24030</td>\n",
       "    </tr>\n",
       "    <tr>\n",
       "      <th>297</th>\n",
       "      <td>12.98</td>\n",
       "      <td>0.160900</td>\n",
       "      <td>0.08251</td>\n",
       "      <td>30.36</td>\n",
       "      <td>0.13110</td>\n",
       "      <td>0.25990</td>\n",
       "      <td>1865.0000</td>\n",
       "      <td>0.008320</td>\n",
       "      <td>1204.0000</td>\n",
       "      <td>0.003674</td>\n",
       "      <td>0.020940</td>\n",
       "      <td>0.18246</td>\n",
       "    </tr>\n",
       "  </tbody>\n",
       "</table>\n",
       "<p>298 rows × 12 columns</p>\n",
       "</div>"
      ],
      "text/plain": [
       "     radius_worst  concavity_worst  fractal_dimension_worst  texture_worst  \\\n",
       "0           13.72         0.003581                  0.05521          20.98   \n",
       "1           18.13         0.166300                  0.06469          25.45   \n",
       "2           14.04         0.179100                  0.08553          21.08   \n",
       "3           14.99         0.023980                  0.05504          25.20   \n",
       "4           19.26         0.379100                  0.08019          26.00   \n",
       "..            ...              ...                      ...            ...   \n",
       "293         16.89         0.379600                  0.08786          35.64   \n",
       "294         13.61         0.179100                  0.07592          19.27   \n",
       "295         13.35         0.142300                  0.06306          19.59   \n",
       "296         14.08         0.085390                  0.07191          12.49   \n",
       "297         12.98         0.160900                  0.08251          30.36   \n",
       "\n",
       "     smoothness_worst  symmetry_worst  perimeter_se  smoothness_se  \\\n",
       "0             0.09293         0.22330     2329.0000       0.005783   \n",
       "1             0.13380         0.23940     2344.0000       0.007257   \n",
       "2             0.15470         0.23820     1614.0000       0.005910   \n",
       "3             0.09387         0.15650     1690.0140       0.006883   \n",
       "4             0.15460         0.28370     3094.0000       0.006240   \n",
       "..                ...             ...           ...            ...   \n",
       "293           0.14710         0.32090     1752.0000       0.004088   \n",
       "294           0.12920         0.24026        0.7714       0.003681   \n",
       "295           0.10960         0.24820     1687.0000       0.005996   \n",
       "296           0.14510         0.31326     2652.0000       0.006459   \n",
       "297           0.13110         0.25990     1865.0000       0.008320   \n",
       "\n",
       "     texture_se  fractal_dimension_se  symmetry_se  symmetry_mean  \n",
       "0        0.9527              0.001058     0.020430        0.15280  \n",
       "1     1439.0000              0.002001     0.016940        0.14950  \n",
       "2     1042.0000              0.003107     0.012020        0.15430  \n",
       "3     2188.0000              0.001754     0.007882        0.15650  \n",
       "4        0.7859              0.002461     0.013970        0.19310  \n",
       "..          ...                   ...          ...            ...  \n",
       "293   1005.0000              0.001465     0.013230        0.17610  \n",
       "294      0.4957              0.001366     0.011290        0.16890  \n",
       "295      0.8355              0.001725     0.020250        0.16670  \n",
       "296   1014.0000              0.006164     0.025720        0.24030  \n",
       "297   1204.0000              0.003674     0.020940        0.18246  \n",
       "\n",
       "[298 rows x 12 columns]"
      ]
     },
     "execution_count": 99,
     "metadata": {},
     "output_type": "execute_result"
    }
   ],
   "source": [
    "imputer = KNNImputer(n_neighbors=5)\n",
    "X_train_imputed = pd.DataFrame(imputer.fit_transform(X_train),columns = X_train.columns)\n",
    "X_train_imputed"
   ]
  },
  {
   "cell_type": "code",
   "execution_count": 100,
   "metadata": {
    "collapsed": false
   },
   "outputs": [
    {
     "data": {
      "text/html": [
       "<div>\n",
       "<style scoped>\n",
       "    .dataframe tbody tr th:only-of-type {\n",
       "        vertical-align: middle;\n",
       "    }\n",
       "\n",
       "    .dataframe tbody tr th {\n",
       "        vertical-align: top;\n",
       "    }\n",
       "\n",
       "    .dataframe thead th {\n",
       "        text-align: right;\n",
       "    }\n",
       "</style>\n",
       "<table border=\"1\" class=\"dataframe\">\n",
       "  <thead>\n",
       "    <tr style=\"text-align: right;\">\n",
       "      <th></th>\n",
       "      <th>radius_worst</th>\n",
       "      <th>concavity_worst</th>\n",
       "      <th>fractal_dimension_worst</th>\n",
       "      <th>texture_worst</th>\n",
       "      <th>smoothness_worst</th>\n",
       "      <th>symmetry_worst</th>\n",
       "      <th>perimeter_se</th>\n",
       "      <th>smoothness_se</th>\n",
       "      <th>texture_se</th>\n",
       "      <th>fractal_dimension_se</th>\n",
       "      <th>symmetry_se</th>\n",
       "      <th>symmetry_mean</th>\n",
       "    </tr>\n",
       "  </thead>\n",
       "  <tbody>\n",
       "    <tr>\n",
       "      <th>radius_worst</th>\n",
       "      <td>1.000000</td>\n",
       "      <td>0.544073</td>\n",
       "      <td>0.218868</td>\n",
       "      <td>0.274191</td>\n",
       "      <td>0.225103</td>\n",
       "      <td>0.300003</td>\n",
       "      <td>0.486586</td>\n",
       "      <td>-0.221293</td>\n",
       "      <td>-0.132410</td>\n",
       "      <td>0.121157</td>\n",
       "      <td>-0.127624</td>\n",
       "      <td>0.229656</td>\n",
       "    </tr>\n",
       "    <tr>\n",
       "      <th>concavity_worst</th>\n",
       "      <td>0.544073</td>\n",
       "      <td>1.000000</td>\n",
       "      <td>0.514732</td>\n",
       "      <td>0.284105</td>\n",
       "      <td>0.442122</td>\n",
       "      <td>0.437351</td>\n",
       "      <td>0.332003</td>\n",
       "      <td>-0.033303</td>\n",
       "      <td>-0.101125</td>\n",
       "      <td>0.378682</td>\n",
       "      <td>-0.113231</td>\n",
       "      <td>0.375778</td>\n",
       "    </tr>\n",
       "    <tr>\n",
       "      <th>fractal_dimension_worst</th>\n",
       "      <td>0.218868</td>\n",
       "      <td>0.514732</td>\n",
       "      <td>1.000000</td>\n",
       "      <td>0.153974</td>\n",
       "      <td>0.521000</td>\n",
       "      <td>0.413906</td>\n",
       "      <td>0.102525</td>\n",
       "      <td>0.092314</td>\n",
       "      <td>-0.092831</td>\n",
       "      <td>0.618086</td>\n",
       "      <td>-0.031703</td>\n",
       "      <td>0.288582</td>\n",
       "    </tr>\n",
       "    <tr>\n",
       "      <th>texture_worst</th>\n",
       "      <td>0.274191</td>\n",
       "      <td>0.284105</td>\n",
       "      <td>0.153974</td>\n",
       "      <td>1.000000</td>\n",
       "      <td>0.158278</td>\n",
       "      <td>0.144021</td>\n",
       "      <td>0.179264</td>\n",
       "      <td>0.071775</td>\n",
       "      <td>0.419769</td>\n",
       "      <td>0.066468</td>\n",
       "      <td>-0.041089</td>\n",
       "      <td>0.072323</td>\n",
       "    </tr>\n",
       "    <tr>\n",
       "      <th>smoothness_worst</th>\n",
       "      <td>0.225103</td>\n",
       "      <td>0.442122</td>\n",
       "      <td>0.521000</td>\n",
       "      <td>0.158278</td>\n",
       "      <td>1.000000</td>\n",
       "      <td>0.451374</td>\n",
       "      <td>0.148271</td>\n",
       "      <td>0.308244</td>\n",
       "      <td>-0.001264</td>\n",
       "      <td>0.275013</td>\n",
       "      <td>-0.018892</td>\n",
       "      <td>0.370400</td>\n",
       "    </tr>\n",
       "    <tr>\n",
       "      <th>symmetry_worst</th>\n",
       "      <td>0.300003</td>\n",
       "      <td>0.437351</td>\n",
       "      <td>0.413906</td>\n",
       "      <td>0.144021</td>\n",
       "      <td>0.451374</td>\n",
       "      <td>1.000000</td>\n",
       "      <td>0.207312</td>\n",
       "      <td>-0.082920</td>\n",
       "      <td>-0.145355</td>\n",
       "      <td>0.176167</td>\n",
       "      <td>0.245810</td>\n",
       "      <td>0.595328</td>\n",
       "    </tr>\n",
       "    <tr>\n",
       "      <th>perimeter_se</th>\n",
       "      <td>0.486586</td>\n",
       "      <td>0.332003</td>\n",
       "      <td>0.102525</td>\n",
       "      <td>0.179264</td>\n",
       "      <td>0.148271</td>\n",
       "      <td>0.207312</td>\n",
       "      <td>1.000000</td>\n",
       "      <td>0.068220</td>\n",
       "      <td>0.141969</td>\n",
       "      <td>0.170143</td>\n",
       "      <td>0.112529</td>\n",
       "      <td>0.268186</td>\n",
       "    </tr>\n",
       "    <tr>\n",
       "      <th>smoothness_se</th>\n",
       "      <td>-0.221293</td>\n",
       "      <td>-0.033303</td>\n",
       "      <td>0.092314</td>\n",
       "      <td>0.071775</td>\n",
       "      <td>0.308244</td>\n",
       "      <td>-0.082920</td>\n",
       "      <td>0.068220</td>\n",
       "      <td>1.000000</td>\n",
       "      <td>0.387023</td>\n",
       "      <td>0.360833</td>\n",
       "      <td>0.340732</td>\n",
       "      <td>0.155407</td>\n",
       "    </tr>\n",
       "    <tr>\n",
       "      <th>texture_se</th>\n",
       "      <td>-0.132410</td>\n",
       "      <td>-0.101125</td>\n",
       "      <td>-0.092831</td>\n",
       "      <td>0.419769</td>\n",
       "      <td>-0.001264</td>\n",
       "      <td>-0.145355</td>\n",
       "      <td>0.141969</td>\n",
       "      <td>0.387023</td>\n",
       "      <td>1.000000</td>\n",
       "      <td>0.230070</td>\n",
       "      <td>0.224682</td>\n",
       "      <td>0.107347</td>\n",
       "    </tr>\n",
       "    <tr>\n",
       "      <th>fractal_dimension_se</th>\n",
       "      <td>0.121157</td>\n",
       "      <td>0.378682</td>\n",
       "      <td>0.618086</td>\n",
       "      <td>0.066468</td>\n",
       "      <td>0.275013</td>\n",
       "      <td>0.176167</td>\n",
       "      <td>0.170143</td>\n",
       "      <td>0.360833</td>\n",
       "      <td>0.230070</td>\n",
       "      <td>1.000000</td>\n",
       "      <td>0.255436</td>\n",
       "      <td>0.295423</td>\n",
       "    </tr>\n",
       "    <tr>\n",
       "      <th>symmetry_se</th>\n",
       "      <td>-0.127624</td>\n",
       "      <td>-0.113231</td>\n",
       "      <td>-0.031703</td>\n",
       "      <td>-0.041089</td>\n",
       "      <td>-0.018892</td>\n",
       "      <td>0.245810</td>\n",
       "      <td>0.112529</td>\n",
       "      <td>0.340732</td>\n",
       "      <td>0.224682</td>\n",
       "      <td>0.255436</td>\n",
       "      <td>1.000000</td>\n",
       "      <td>0.309619</td>\n",
       "    </tr>\n",
       "    <tr>\n",
       "      <th>symmetry_mean</th>\n",
       "      <td>0.229656</td>\n",
       "      <td>0.375778</td>\n",
       "      <td>0.288582</td>\n",
       "      <td>0.072323</td>\n",
       "      <td>0.370400</td>\n",
       "      <td>0.595328</td>\n",
       "      <td>0.268186</td>\n",
       "      <td>0.155407</td>\n",
       "      <td>0.107347</td>\n",
       "      <td>0.295423</td>\n",
       "      <td>0.309619</td>\n",
       "      <td>1.000000</td>\n",
       "    </tr>\n",
       "  </tbody>\n",
       "</table>\n",
       "</div>"
      ],
      "text/plain": [
       "                         radius_worst  concavity_worst  \\\n",
       "radius_worst                 1.000000         0.544073   \n",
       "concavity_worst              0.544073         1.000000   \n",
       "fractal_dimension_worst      0.218868         0.514732   \n",
       "texture_worst                0.274191         0.284105   \n",
       "smoothness_worst             0.225103         0.442122   \n",
       "symmetry_worst               0.300003         0.437351   \n",
       "perimeter_se                 0.486586         0.332003   \n",
       "smoothness_se               -0.221293        -0.033303   \n",
       "texture_se                  -0.132410        -0.101125   \n",
       "fractal_dimension_se         0.121157         0.378682   \n",
       "symmetry_se                 -0.127624        -0.113231   \n",
       "symmetry_mean                0.229656         0.375778   \n",
       "\n",
       "                         fractal_dimension_worst  texture_worst  \\\n",
       "radius_worst                            0.218868       0.274191   \n",
       "concavity_worst                         0.514732       0.284105   \n",
       "fractal_dimension_worst                 1.000000       0.153974   \n",
       "texture_worst                           0.153974       1.000000   \n",
       "smoothness_worst                        0.521000       0.158278   \n",
       "symmetry_worst                          0.413906       0.144021   \n",
       "perimeter_se                            0.102525       0.179264   \n",
       "smoothness_se                           0.092314       0.071775   \n",
       "texture_se                             -0.092831       0.419769   \n",
       "fractal_dimension_se                    0.618086       0.066468   \n",
       "symmetry_se                            -0.031703      -0.041089   \n",
       "symmetry_mean                           0.288582       0.072323   \n",
       "\n",
       "                         smoothness_worst  symmetry_worst  perimeter_se  \\\n",
       "radius_worst                     0.225103        0.300003      0.486586   \n",
       "concavity_worst                  0.442122        0.437351      0.332003   \n",
       "fractal_dimension_worst          0.521000        0.413906      0.102525   \n",
       "texture_worst                    0.158278        0.144021      0.179264   \n",
       "smoothness_worst                 1.000000        0.451374      0.148271   \n",
       "symmetry_worst                   0.451374        1.000000      0.207312   \n",
       "perimeter_se                     0.148271        0.207312      1.000000   \n",
       "smoothness_se                    0.308244       -0.082920      0.068220   \n",
       "texture_se                      -0.001264       -0.145355      0.141969   \n",
       "fractal_dimension_se             0.275013        0.176167      0.170143   \n",
       "symmetry_se                     -0.018892        0.245810      0.112529   \n",
       "symmetry_mean                    0.370400        0.595328      0.268186   \n",
       "\n",
       "                         smoothness_se  texture_se  fractal_dimension_se  \\\n",
       "radius_worst                 -0.221293   -0.132410              0.121157   \n",
       "concavity_worst              -0.033303   -0.101125              0.378682   \n",
       "fractal_dimension_worst       0.092314   -0.092831              0.618086   \n",
       "texture_worst                 0.071775    0.419769              0.066468   \n",
       "smoothness_worst              0.308244   -0.001264              0.275013   \n",
       "symmetry_worst               -0.082920   -0.145355              0.176167   \n",
       "perimeter_se                  0.068220    0.141969              0.170143   \n",
       "smoothness_se                 1.000000    0.387023              0.360833   \n",
       "texture_se                    0.387023    1.000000              0.230070   \n",
       "fractal_dimension_se          0.360833    0.230070              1.000000   \n",
       "symmetry_se                   0.340732    0.224682              0.255436   \n",
       "symmetry_mean                 0.155407    0.107347              0.295423   \n",
       "\n",
       "                         symmetry_se  symmetry_mean  \n",
       "radius_worst               -0.127624       0.229656  \n",
       "concavity_worst            -0.113231       0.375778  \n",
       "fractal_dimension_worst    -0.031703       0.288582  \n",
       "texture_worst              -0.041089       0.072323  \n",
       "smoothness_worst           -0.018892       0.370400  \n",
       "symmetry_worst              0.245810       0.595328  \n",
       "perimeter_se                0.112529       0.268186  \n",
       "smoothness_se               0.340732       0.155407  \n",
       "texture_se                  0.224682       0.107347  \n",
       "fractal_dimension_se        0.255436       0.295423  \n",
       "symmetry_se                 1.000000       0.309619  \n",
       "symmetry_mean               0.309619       1.000000  "
      ]
     },
     "execution_count": 100,
     "metadata": {},
     "output_type": "execute_result"
    }
   ],
   "source": [
    "matriz_correlacion = X_train_imputed.corr(method='pearson')\n",
    "matriz_correlacion"
   ]
  },
  {
   "cell_type": "markdown",
   "metadata": {},
   "source": [
    "## Heatmap correlation matrix"
   ]
  },
  {
   "cell_type": "code",
   "execution_count": 101,
   "metadata": {
    "collapsed": false
   },
   "outputs": [
    {
     "data": {
      "image/png": "[encoded data removed]",
      "text/plain": [
       "<Figure size 1500x1200 with 2 Axes>"
      ]
     },
     "metadata": {},
     "output_type": "display_data"
    }
   ],
   "source": [
    "# se construye un mapa de calor a partir de la matriz de correlación\n",
    "fig, ax = plt.subplots(figsize=(15, 12))\n",
    "sns.heatmap(matriz_correlacion, annot=True);"
   ]
  },
  {
   "cell_type": "markdown",
   "metadata": {},
   "source": [
    "## Using standard scaler"
   ]
  },
  {
   "cell_type": "code",
   "execution_count": 102,
   "metadata": {
    "collapsed": false
   },
   "outputs": [],
   "source": [
    "from sklearn.preprocessing import StandardScaler\n",
    "from sklearn.model_selection import train_test_split # Import train_test_split function\n",
    "\n",
    "tipificado = StandardScaler().fit(X_train_imputed)\n",
    "standardized_X = tipificado.transform(X_train_imputed)\n",
    "standardized_X_val= tipificado.transform(X_val)"
   ]
  },
  {
   "cell_type": "code",
   "execution_count": 103,
   "metadata": {
    "collapsed": false
   },
   "outputs": [
    {
     "data": {
      "text/html": [
       "<div>\n",
       "<style scoped>\n",
       "    .dataframe tbody tr th:only-of-type {\n",
       "        vertical-align: middle;\n",
       "    }\n",
       "\n",
       "    .dataframe tbody tr th {\n",
       "        vertical-align: top;\n",
       "    }\n",
       "\n",
       "    .dataframe thead th {\n",
       "        text-align: right;\n",
       "    }\n",
       "</style>\n",
       "<table border=\"1\" class=\"dataframe\">\n",
       "  <thead>\n",
       "    <tr style=\"text-align: right;\">\n",
       "      <th></th>\n",
       "      <th>radius_worst</th>\n",
       "      <th>concavity_worst</th>\n",
       "      <th>fractal_dimension_worst</th>\n",
       "      <th>texture_worst</th>\n",
       "      <th>smoothness_worst</th>\n",
       "      <th>symmetry_worst</th>\n",
       "      <th>perimeter_se</th>\n",
       "      <th>smoothness_se</th>\n",
       "      <th>texture_se</th>\n",
       "      <th>fractal_dimension_se</th>\n",
       "      <th>symmetry_se</th>\n",
       "      <th>symmetry_mean</th>\n",
       "    </tr>\n",
       "  </thead>\n",
       "  <tbody>\n",
       "    <tr>\n",
       "      <th>0</th>\n",
       "      <td>22.660</td>\n",
       "      <td>0.39120</td>\n",
       "      <td>0.08314</td>\n",
       "      <td>30.93</td>\n",
       "      <td>0.14350</td>\n",
       "      <td>0.30070</td>\n",
       "      <td>4493.0</td>\n",
       "      <td>0.008074</td>\n",
       "      <td>1931.0000</td>\n",
       "      <td>0.004515</td>\n",
       "      <td>0.02383</td>\n",
       "      <td>0.19430</td>\n",
       "    </tr>\n",
       "    <tr>\n",
       "      <th>1</th>\n",
       "      <td>10.060</td>\n",
       "      <td>0.46090</td>\n",
       "      <td>0.10550</td>\n",
       "      <td>23.40</td>\n",
       "      <td>0.12210</td>\n",
       "      <td>0.31350</td>\n",
       "      <td>3769.0</td>\n",
       "      <td>0.009845</td>\n",
       "      <td>1911.0000</td>\n",
       "      <td>0.007877</td>\n",
       "      <td>0.03491</td>\n",
       "      <td>0.18198</td>\n",
       "    </tr>\n",
       "    <tr>\n",
       "      <th>2</th>\n",
       "      <td>14.800</td>\n",
       "      <td>0.34380</td>\n",
       "      <td>0.07686</td>\n",
       "      <td>27.20</td>\n",
       "      <td>0.14280</td>\n",
       "      <td>0.26660</td>\n",
       "      <td>1513.0</td>\n",
       "      <td>0.005442</td>\n",
       "      <td>1332.0000</td>\n",
       "      <td>0.002464</td>\n",
       "      <td>0.01315</td>\n",
       "      <td>0.18060</td>\n",
       "    </tr>\n",
       "    <tr>\n",
       "      <th>3</th>\n",
       "      <td>14.544</td>\n",
       "      <td>0.24560</td>\n",
       "      <td>0.10170</td>\n",
       "      <td>19.62</td>\n",
       "      <td>0.17240</td>\n",
       "      <td>0.29260</td>\n",
       "      <td>1354.0</td>\n",
       "      <td>0.008261</td>\n",
       "      <td>0.5864</td>\n",
       "      <td>0.003806</td>\n",
       "      <td>0.01708</td>\n",
       "      <td>0.16490</td>\n",
       "    </tr>\n",
       "    <tr>\n",
       "      <th>4</th>\n",
       "      <td>12.360</td>\n",
       "      <td>0.03582</td>\n",
       "      <td>0.07123</td>\n",
       "      <td>28.92</td>\n",
       "      <td>0.12820</td>\n",
       "      <td>0.29760</td>\n",
       "      <td>1968.0</td>\n",
       "      <td>0.006908</td>\n",
       "      <td>1678.0000</td>\n",
       "      <td>0.002060</td>\n",
       "      <td>0.02694</td>\n",
       "      <td>0.16150</td>\n",
       "    </tr>\n",
       "    <tr>\n",
       "      <th>...</th>\n",
       "      <td>...</td>\n",
       "      <td>...</td>\n",
       "      <td>...</td>\n",
       "      <td>...</td>\n",
       "      <td>...</td>\n",
       "      <td>...</td>\n",
       "      <td>...</td>\n",
       "      <td>...</td>\n",
       "      <td>...</td>\n",
       "      <td>...</td>\n",
       "      <td>...</td>\n",
       "      <td>...</td>\n",
       "    </tr>\n",
       "    <tr>\n",
       "      <th>95</th>\n",
       "      <td>13.740</td>\n",
       "      <td>0.22410</td>\n",
       "      <td>0.09584</td>\n",
       "      <td>19.93</td>\n",
       "      <td>0.14830</td>\n",
       "      <td>0.27706</td>\n",
       "      <td>1231.0</td>\n",
       "      <td>0.008725</td>\n",
       "      <td>0.7636</td>\n",
       "      <td>0.004726</td>\n",
       "      <td>0.02625</td>\n",
       "      <td>0.17288</td>\n",
       "    </tr>\n",
       "    <tr>\n",
       "      <th>96</th>\n",
       "      <td>12.820</td>\n",
       "      <td>0.21020</td>\n",
       "      <td>0.08523</td>\n",
       "      <td>15.97</td>\n",
       "      <td>0.15480</td>\n",
       "      <td>0.30160</td>\n",
       "      <td>1103.0</td>\n",
       "      <td>0.006040</td>\n",
       "      <td>0.4607</td>\n",
       "      <td>0.002206</td>\n",
       "      <td>0.01344</td>\n",
       "      <td>0.16670</td>\n",
       "    </tr>\n",
       "    <tr>\n",
       "      <th>97</th>\n",
       "      <td>11.260</td>\n",
       "      <td>0.34860</td>\n",
       "      <td>0.11620</td>\n",
       "      <td>24.39</td>\n",
       "      <td>0.13010</td>\n",
       "      <td>0.26140</td>\n",
       "      <td>3132.0</td>\n",
       "      <td>0.008448</td>\n",
       "      <td>2261.0000</td>\n",
       "      <td>0.006871</td>\n",
       "      <td>0.02682</td>\n",
       "      <td>0.16690</td>\n",
       "    </tr>\n",
       "    <tr>\n",
       "      <th>98</th>\n",
       "      <td>12.900</td>\n",
       "      <td>0.02237</td>\n",
       "      <td>0.05932</td>\n",
       "      <td>20.21</td>\n",
       "      <td>0.08409</td>\n",
       "      <td>0.19010</td>\n",
       "      <td>2487.0</td>\n",
       "      <td>0.007357</td>\n",
       "      <td>2.2000</td>\n",
       "      <td>0.002961</td>\n",
       "      <td>0.03433</td>\n",
       "      <td>0.14720</td>\n",
       "    </tr>\n",
       "    <tr>\n",
       "      <th>99</th>\n",
       "      <td>16.410</td>\n",
       "      <td>0.34020</td>\n",
       "      <td>0.08362</td>\n",
       "      <td>19.31</td>\n",
       "      <td>0.11360</td>\n",
       "      <td>0.29540</td>\n",
       "      <td>2276.0</td>\n",
       "      <td>0.004119</td>\n",
       "      <td>0.4966</td>\n",
       "      <td>0.003204</td>\n",
       "      <td>0.01391</td>\n",
       "      <td>0.18810</td>\n",
       "    </tr>\n",
       "  </tbody>\n",
       "</table>\n",
       "<p>100 rows × 12 columns</p>\n",
       "</div>"
      ],
      "text/plain": [
       "    radius_worst  concavity_worst  fractal_dimension_worst  texture_worst  \\\n",
       "0         22.660          0.39120                  0.08314          30.93   \n",
       "1         10.060          0.46090                  0.10550          23.40   \n",
       "2         14.800          0.34380                  0.07686          27.20   \n",
       "3         14.544          0.24560                  0.10170          19.62   \n",
       "4         12.360          0.03582                  0.07123          28.92   \n",
       "..           ...              ...                      ...            ...   \n",
       "95        13.740          0.22410                  0.09584          19.93   \n",
       "96        12.820          0.21020                  0.08523          15.97   \n",
       "97        11.260          0.34860                  0.11620          24.39   \n",
       "98        12.900          0.02237                  0.05932          20.21   \n",
       "99        16.410          0.34020                  0.08362          19.31   \n",
       "\n",
       "    smoothness_worst  symmetry_worst  perimeter_se  smoothness_se  texture_se  \\\n",
       "0            0.14350         0.30070        4493.0       0.008074   1931.0000   \n",
       "1            0.12210         0.31350        3769.0       0.009845   1911.0000   \n",
       "2            0.14280         0.26660        1513.0       0.005442   1332.0000   \n",
       "3            0.17240         0.29260        1354.0       0.008261      0.5864   \n",
       "4            0.12820         0.29760        1968.0       0.006908   1678.0000   \n",
       "..               ...             ...           ...            ...         ...   \n",
       "95           0.14830         0.27706        1231.0       0.008725      0.7636   \n",
       "96           0.15480         0.30160        1103.0       0.006040      0.4607   \n",
       "97           0.13010         0.26140        3132.0       0.008448   2261.0000   \n",
       "98           0.08409         0.19010        2487.0       0.007357      2.2000   \n",
       "99           0.11360         0.29540        2276.0       0.004119      0.4966   \n",
       "\n",
       "    fractal_dimension_se  symmetry_se  symmetry_mean  \n",
       "0               0.004515      0.02383        0.19430  \n",
       "1               0.007877      0.03491        0.18198  \n",
       "2               0.002464      0.01315        0.18060  \n",
       "3               0.003806      0.01708        0.16490  \n",
       "4               0.002060      0.02694        0.16150  \n",
       "..                   ...          ...            ...  \n",
       "95              0.004726      0.02625        0.17288  \n",
       "96              0.002206      0.01344        0.16670  \n",
       "97              0.006871      0.02682        0.16690  \n",
       "98              0.002961      0.03433        0.14720  \n",
       "99              0.003204      0.01391        0.18810  \n",
       "\n",
       "[100 rows x 12 columns]"
      ]
     },
     "execution_count": 103,
     "metadata": {},
     "output_type": "execute_result"
    }
   ],
   "source": [
    "imputer = KNNImputer(n_neighbors=5)\n",
    "X_val_imputed = pd.DataFrame(imputer.fit_transform(X_val),columns = X_val.columns)\n",
    "X_val_imputed"
   ]
  },
  {
   "cell_type": "markdown",
   "metadata": {},
   "source": [
    "## Testing different models"
   ]
  },
  {
   "cell_type": "code",
   "execution_count": 104,
   "metadata": {
    "collapsed": false
   },
   "outputs": [
    {
     "name": "stdout",
     "output_type": "stream",
     "text": [
      "(LR, 0.8272366522366521, 0.08010468868239864\n",
      "(CART, 0.902624458874459, 0.06164634238189782\n",
      "(NB, 0.8991522366522366, 0.07866088820521533\n",
      "(SVM, 0.5198953823953824, 0.20522799259067567\n",
      "(RF, 0.8863185425685425, 0.07236347015358684\n"
     ]
    }
   ],
   "source": [
    "seed =2\n",
    "models = []\n",
    "\n",
    "#logistic Regression\n",
    "models.append(('LR', LogisticRegression(solver='liblinear')))\n",
    "\n",
    "# Decision Tree classifier\n",
    "models.append(('CART', DecisionTreeClassifier()))\n",
    "\n",
    "# Naïve Bayes\n",
    "models.append(('NB', GaussianNB()))\n",
    "# SVM\n",
    "models.append(('SVM', SVC(C=1.0, kernel='rbf', max_iter=1000, tol=1e-3)))\n",
    "#Random forest RandomForestClassifier\n",
    "models.append(('RF', RandomForestClassifier()))\n",
    "# evaluate each model in turn\n",
    "results = []\n",
    "names = []\n",
    "scoring = 'recall'\n",
    "for name, model in models:\n",
    "\t# Kfol cross validation for model selection\n",
    "\tkfold = model_selection.KFold(n_splits=10, random_state=seed,shuffle=True)\n",
    "\t#X train , y train\n",
    "\tcv_results = model_selection.cross_val_score(model, X_train_imputed, y_train, cv=kfold, scoring=scoring)\n",
    "\tresults.append(cv_results)\n",
    "\tnames.append(name)\n",
    "\tmsg = f\"({name}, {cv_results.mean()}, {cv_results.std()}\"\n",
    "\tprint(msg)"
   ]
  },
  {
   "cell_type": "markdown",
   "metadata": {},
   "source": [
    "## Comparing algorithms\n",
    "\n",
    "From the grafic above we can see that RF performs better than other algorithms, so we'll select it for a comparison experiment."
   ]
  },
  {
   "cell_type": "code",
   "execution_count": 105,
   "metadata": {
    "collapsed": false
   },
   "outputs": [
    {
     "data": {
      "application/vnd.plotly.v1+json": {
       "config": {
        "plotlyServerURL": "https://plot.ly"
       },
       "data": [
        {
         "alignmentgroup": "True",
         "hovertemplate": "variable=%{x}<br>value=%{y}<extra></extra>",
         "legendgroup": "",
         "marker": {
          "color": "#636efa"
         },
         "name": "",
         "notched": false,
         "offsetgroup": "",
         "orientation": "v",
         "showlegend": false,
         "type": "box",
         "x": [
          "LR",
          "LR",
          "LR",
          "LR",
          "LR",
          "LR",
          "LR",
          "LR",
          "LR",
          "LR",
          "CART",
          "CART",
          "CART",
          "CART",
          "CART",
          "CART",
          "CART",
          "CART",
          "CART",
          "CART",
          "NB",
          "NB",
          "NB",
          "NB",
          "NB",
          "NB",
          "NB",
          "NB",
          "NB",
          "NB",
          "SVM",
          "SVM",
          "SVM",
          "SVM",
          "SVM",
          "SVM",
          "SVM",
          "SVM",
          "SVM",
          "SVM",
          "RF",
          "RF",
          "RF",
          "RF",
          "RF",
          "RF",
          "RF",
          "RF",
          "RF",
          "RF"
         ],
         "x0": " ",
         "xaxis": "x",
         "y": [
          0.75,
          0.8181818181818182,
          0.7777777777777778,
          0.75,
          1,
          0.9166666666666666,
          0.8181818181818182,
          0.7272727272727273,
          0.8571428571428571,
          0.8571428571428571,
          0.8125,
          0.9090909090909091,
          1,
          0.875,
          1,
          0.9166666666666666,
          0.9090909090909091,
          0.8181818181818182,
          0.8571428571428571,
          0.9285714285714286,
          0.875,
          1,
          0.7777777777777778,
          1,
          1,
          0.9166666666666666,
          0.8181818181818182,
          0.8181818181818182,
          0.8571428571428571,
          0.9285714285714286,
          0.5,
          0.8181818181818182,
          0.5555555555555556,
          0.375,
          0.75,
          0.5833333333333334,
          0.45454545454545453,
          0.09090909090909091,
          0.7142857142857143,
          0.35714285714285715,
          0.8125,
          0.9090909090909091,
          0.8888888888888888,
          0.875,
          1,
          0.9166666666666666,
          0.9090909090909091,
          0.9090909090909091,
          0.7142857142857143,
          0.9285714285714286
         ],
         "y0": " ",
         "yaxis": "y"
        }
       ],
       "layout": {
        "boxmode": "group",
        "legend": {
         "tracegroupgap": 0
        },
        "template": {
         "data": {
          "bar": [
           {
            "error_x": {
             "color": "#f2f5fa"
            },
            "error_y": {
             "color": "#f2f5fa"
            },
            "marker": {
             "line": {
              "color": "rgb(17,17,17)",
              "width": 0.5
             },
             "pattern": {
              "fillmode": "overlay",
              "size": 10,
              "solidity": 0.2
             }
            },
            "type": "bar"
           }
          ],
          "barpolar": [
           {
            "marker": {
             "line": {
              "color": "rgb(17,17,17)",
              "width": 0.5
             },
             "pattern": {
              "fillmode": "overlay",
              "size": 10,
              "solidity": 0.2
             }
            },
            "type": "barpolar"
           }
          ],
          "carpet": [
           {
            "aaxis": {
             "endlinecolor": "#A2B1C6",
             "gridcolor": "#506784",
             "linecolor": "#506784",
             "minorgridcolor": "#506784",
             "startlinecolor": "#A2B1C6"
            },
            "baxis": {
             "endlinecolor": "#A2B1C6",
             "gridcolor": "#506784",
             "linecolor": "#506784",
             "minorgridcolor": "#506784",
             "startlinecolor": "#A2B1C6"
            },
            "type": "carpet"
           }
          ],
          "choropleth": [
           {
            "colorbar": {
             "outlinewidth": 0,
             "ticks": ""
            },
            "type": "choropleth"
           }
          ],
          "contour": [
           {
            "colorbar": {
             "outlinewidth": 0,
             "ticks": ""
            },
            "colorscale": [
             [
              0,
              "#0d0887"
             ],
             [
              0.1111111111111111,
              "#46039f"
             ],
             [
              0.2222222222222222,
              "#7201a8"
             ],
             [
              0.3333333333333333,
              "#9c179e"
             ],
             [
              0.4444444444444444,
              "#bd3786"
             ],
             [
              0.5555555555555556,
              "#d8576b"
             ],
             [
              0.6666666666666666,
              "#ed7953"
             ],
             [
              0.7777777777777778,
              "#fb9f3a"
             ],
             [
              0.8888888888888888,
              "#fdca26"
             ],
             [
              1,
              "#f0f921"
             ]
            ],
            "type": "contour"
           }
          ],
          "contourcarpet": [
           {
            "colorbar": {
             "outlinewidth": 0,
             "ticks": ""
            },
            "type": "contourcarpet"
           }
          ],
          "heatmap": [
           {
            "colorbar": {
             "outlinewidth": 0,
             "ticks": ""
            },
            "colorscale": [
             [
              0,
              "#0d0887"
             ],
             [
              0.1111111111111111,
              "#46039f"
             ],
             [
              0.2222222222222222,
              "#7201a8"
             ],
             [
              0.3333333333333333,
              "#9c179e"
             ],
             [
              0.4444444444444444,
              "#bd3786"
             ],
             [
              0.5555555555555556,
              "#d8576b"
             ],
             [
              0.6666666666666666,
              "#ed7953"
             ],
             [
              0.7777777777777778,
              "#fb9f3a"
             ],
             [
              0.8888888888888888,
              "#fdca26"
             ],
             [
              1,
              "#f0f921"
             ]
            ],
            "type": "heatmap"
           }
          ],
          "heatmapgl": [
           {
            "colorbar": {
             "outlinewidth": 0,
             "ticks": ""
            },
            "colorscale": [
             [
              0,
              "#0d0887"
             ],
             [
              0.1111111111111111,
              "#46039f"
             ],
             [
              0.2222222222222222,
              "#7201a8"
             ],
             [
              0.3333333333333333,
              "#9c179e"
             ],
             [
              0.4444444444444444,
              "#bd3786"
             ],
             [
              0.5555555555555556,
              "#d8576b"
             ],
             [
              0.6666666666666666,
              "#ed7953"
             ],
             [
              0.7777777777777778,
              "#fb9f3a"
             ],
             [
              0.8888888888888888,
              "#fdca26"
             ],
             [
              1,
              "#f0f921"
             ]
            ],
            "type": "heatmapgl"
           }
          ],
          "histogram": [
           {
            "marker": {
             "pattern": {
              "fillmode": "overlay",
              "size": 10,
              "solidity": 0.2
             }
            },
            "type": "histogram"
           }
          ],
          "histogram2d": [
           {
            "colorbar": {
             "outlinewidth": 0,
             "ticks": ""
            },
            "colorscale": [
             [
              0,
              "#0d0887"
             ],
             [
              0.1111111111111111,
              "#46039f"
             ],
             [
              0.2222222222222222,
              "#7201a8"
             ],
             [
              0.3333333333333333,
              "#9c179e"
             ],
             [
              0.4444444444444444,
              "#bd3786"
             ],
             [
              0.5555555555555556,
              "#d8576b"
             ],
             [
              0.6666666666666666,
              "#ed7953"
             ],
             [
              0.7777777777777778,
              "#fb9f3a"
             ],
             [
              0.8888888888888888,
              "#fdca26"
             ],
             [
              1,
              "#f0f921"
             ]
            ],
            "type": "histogram2d"
           }
          ],
          "histogram2dcontour": [
           {
            "colorbar": {
             "outlinewidth": 0,
             "ticks": ""
            },
            "colorscale": [
             [
              0,
              "#0d0887"
             ],
             [
              0.1111111111111111,
              "#46039f"
             ],
             [
              0.2222222222222222,
              "#7201a8"
             ],
             [
              0.3333333333333333,
              "#9c179e"
             ],
             [
              0.4444444444444444,
              "#bd3786"
             ],
             [
              0.5555555555555556,
              "#d8576b"
             ],
             [
              0.6666666666666666,
              "#ed7953"
             ],
             [
              0.7777777777777778,
              "#fb9f3a"
             ],
             [
              0.8888888888888888,
              "#fdca26"
             ],
             [
              1,
              "#f0f921"
             ]
            ],
            "type": "histogram2dcontour"
           }
          ],
          "mesh3d": [
           {
            "colorbar": {
             "outlinewidth": 0,
             "ticks": ""
            },
            "type": "mesh3d"
           }
          ],
          "parcoords": [
           {
            "line": {
             "colorbar": {
              "outlinewidth": 0,
              "ticks": ""
             }
            },
            "type": "parcoords"
           }
          ],
          "pie": [
           {
            "automargin": true,
            "type": "pie"
           }
          ],
          "scatter": [
           {
            "marker": {
             "line": {
              "color": "#283442"
             }
            },
            "type": "scatter"
           }
          ],
          "scatter3d": [
           {
            "line": {
             "colorbar": {
              "outlinewidth": 0,
              "ticks": ""
             }
            },
            "marker": {
             "colorbar": {
              "outlinewidth": 0,
              "ticks": ""
             }
            },
            "type": "scatter3d"
           }
          ],
          "scattercarpet": [
           {
            "marker": {
             "colorbar": {
              "outlinewidth": 0,
              "ticks": ""
             }
            },
            "type": "scattercarpet"
           }
          ],
          "scattergeo": [
           {
            "marker": {
             "colorbar": {
              "outlinewidth": 0,
              "ticks": ""
             }
            },
            "type": "scattergeo"
           }
          ],
          "scattergl": [
           {
            "marker": {
             "line": {
              "color": "#283442"
             }
            },
            "type": "scattergl"
           }
          ],
          "scattermapbox": [
           {
            "marker": {
             "colorbar": {
              "outlinewidth": 0,
              "ticks": ""
             }
            },
            "type": "scattermapbox"
           }
          ],
          "scatterpolar": [
           {
            "marker": {
             "colorbar": {
              "outlinewidth": 0,
              "ticks": ""
             }
            },
            "type": "scatterpolar"
           }
          ],
          "scatterpolargl": [
           {
            "marker": {
             "colorbar": {
              "outlinewidth": 0,
              "ticks": ""
             }
            },
            "type": "scatterpolargl"
           }
          ],
          "scatterternary": [
           {
            "marker": {
             "colorbar": {
              "outlinewidth": 0,
              "ticks": ""
             }
            },
            "type": "scatterternary"
           }
          ],
          "surface": [
           {
            "colorbar": {
             "outlinewidth": 0,
             "ticks": ""
            },
            "colorscale": [
             [
              0,
              "#0d0887"
             ],
             [
              0.1111111111111111,
              "#46039f"
             ],
             [
              0.2222222222222222,
              "#7201a8"
             ],
             [
              0.3333333333333333,
              "#9c179e"
             ],
             [
              0.4444444444444444,
              "#bd3786"
             ],
             [
              0.5555555555555556,
              "#d8576b"
             ],
             [
              0.6666666666666666,
              "#ed7953"
             ],
             [
              0.7777777777777778,
              "#fb9f3a"
             ],
             [
              0.8888888888888888,
              "#fdca26"
             ],
             [
              1,
              "#f0f921"
             ]
            ],
            "type": "surface"
           }
          ],
          "table": [
           {
            "cells": {
             "fill": {
              "color": "#506784"
             },
             "line": {
              "color": "rgb(17,17,17)"
             }
            },
            "header": {
             "fill": {
              "color": "#2a3f5f"
             },
             "line": {
              "color": "rgb(17,17,17)"
             }
            },
            "type": "table"
           }
          ]
         },
         "layout": {
          "annotationdefaults": {
           "arrowcolor": "#f2f5fa",
           "arrowhead": 0,
           "arrowwidth": 1
          },
          "autotypenumbers": "strict",
          "coloraxis": {
           "colorbar": {
            "outlinewidth": 0,
            "ticks": ""
           }
          },
          "colorscale": {
           "diverging": [
            [
             0,
             "#8e0152"
            ],
            [
             0.1,
             "#c51b7d"
            ],
            [
             0.2,
             "#de77ae"
            ],
            [
             0.3,
             "#f1b6da"
            ],
            [
             0.4,
             "#fde0ef"
            ],
            [
             0.5,
             "#f7f7f7"
            ],
            [
             0.6,
             "#e6f5d0"
            ],
            [
             0.7,
             "#b8e186"
            ],
            [
             0.8,
             "#7fbc41"
            ],
            [
             0.9,
             "#4d9221"
            ],
            [
             1,
             "#276419"
            ]
           ],
           "sequential": [
            [
             0,
             "#0d0887"
            ],
            [
             0.1111111111111111,
             "#46039f"
            ],
            [
             0.2222222222222222,
             "#7201a8"
            ],
            [
             0.3333333333333333,
             "#9c179e"
            ],
            [
             0.4444444444444444,
             "#bd3786"
            ],
            [
             0.5555555555555556,
             "#d8576b"
            ],
            [
             0.6666666666666666,
             "#ed7953"
            ],
            [
             0.7777777777777778,
             "#fb9f3a"
            ],
            [
             0.8888888888888888,
             "#fdca26"
            ],
            [
             1,
             "#f0f921"
            ]
           ],
           "sequentialminus": [
            [
             0,
             "#0d0887"
            ],
            [
             0.1111111111111111,
             "#46039f"
            ],
            [
             0.2222222222222222,
             "#7201a8"
            ],
            [
             0.3333333333333333,
             "#9c179e"
            ],
            [
             0.4444444444444444,
             "#bd3786"
            ],
            [
             0.5555555555555556,
             "#d8576b"
            ],
            [
             0.6666666666666666,
             "#ed7953"
            ],
            [
             0.7777777777777778,
             "#fb9f3a"
            ],
            [
             0.8888888888888888,
             "#fdca26"
            ],
            [
             1,
             "#f0f921"
            ]
           ]
          },
          "colorway": [
           "#636efa",
           "#EF553B",
           "#00cc96",
           "#ab63fa",
           "#FFA15A",
           "#19d3f3",
           "#FF6692",
           "#B6E880",
           "#FF97FF",
           "#FECB52"
          ],
          "font": {
           "color": "#f2f5fa"
          },
          "geo": {
           "bgcolor": "rgb(17,17,17)",
           "lakecolor": "rgb(17,17,17)",
           "landcolor": "rgb(17,17,17)",
           "showlakes": true,
           "showland": true,
           "subunitcolor": "#506784"
          },
          "hoverlabel": {
           "align": "left"
          },
          "hovermode": "closest",
          "mapbox": {
           "style": "dark"
          },
          "paper_bgcolor": "rgb(17,17,17)",
          "plot_bgcolor": "rgb(17,17,17)",
          "polar": {
           "angularaxis": {
            "gridcolor": "#506784",
            "linecolor": "#506784",
            "ticks": ""
           },
           "bgcolor": "rgb(17,17,17)",
           "radialaxis": {
            "gridcolor": "#506784",
            "linecolor": "#506784",
            "ticks": ""
           }
          },
          "scene": {
           "xaxis": {
            "backgroundcolor": "rgb(17,17,17)",
            "gridcolor": "#506784",
            "gridwidth": 2,
            "linecolor": "#506784",
            "showbackground": true,
            "ticks": "",
            "zerolinecolor": "#C8D4E3"
           },
           "yaxis": {
            "backgroundcolor": "rgb(17,17,17)",
            "gridcolor": "#506784",
            "gridwidth": 2,
            "linecolor": "#506784",
            "showbackground": true,
            "ticks": "",
            "zerolinecolor": "#C8D4E3"
           },
           "zaxis": {
            "backgroundcolor": "rgb(17,17,17)",
            "gridcolor": "#506784",
            "gridwidth": 2,
            "linecolor": "#506784",
            "showbackground": true,
            "ticks": "",
            "zerolinecolor": "#C8D4E3"
           }
          },
          "shapedefaults": {
           "line": {
            "color": "#f2f5fa"
           }
          },
          "sliderdefaults": {
           "bgcolor": "#C8D4E3",
           "bordercolor": "rgb(17,17,17)",
           "borderwidth": 1,
           "tickwidth": 0
          },
          "ternary": {
           "aaxis": {
            "gridcolor": "#506784",
            "linecolor": "#506784",
            "ticks": ""
           },
           "baxis": {
            "gridcolor": "#506784",
            "linecolor": "#506784",
            "ticks": ""
           },
           "bgcolor": "rgb(17,17,17)",
           "caxis": {
            "gridcolor": "#506784",
            "linecolor": "#506784",
            "ticks": ""
           }
          },
          "title": {
           "x": 0.05
          },
          "updatemenudefaults": {
           "bgcolor": "#506784",
           "borderwidth": 0
          },
          "xaxis": {
           "automargin": true,
           "gridcolor": "#283442",
           "linecolor": "#506784",
           "ticks": "",
           "title": {
            "standoff": 15
           },
           "zerolinecolor": "#283442",
           "zerolinewidth": 2
          },
          "yaxis": {
           "automargin": true,
           "gridcolor": "#283442",
           "linecolor": "#506784",
           "ticks": "",
           "title": {
            "standoff": 15
           },
           "zerolinecolor": "#283442",
           "zerolinewidth": 2
          }
         }
        },
        "title": {
         "text": "Algorithm Comparison"
        },
        "xaxis": {
         "anchor": "y",
         "domain": [
          0,
          1
         ],
         "title": {
          "text": "variable"
         }
        },
        "yaxis": {
         "anchor": "x",
         "domain": [
          0,
          1
         ],
         "title": {
          "text": "value"
         }
        }
       }
      },
      "text/html": [
       "<div>                            <div id=\"1ad436cc-eb21-4d50-929a-12dda537d0af\" class=\"plotly-graph-div\" style=\"height:525px; width:100%;\"></div>            <script type=\"text/javascript\">                require([\"plotly\"], function(Plotly) {                    window.PLOTLYENV=window.PLOTLYENV || {};                                    if (document.getElementById(\"1ad436cc-eb21-4d50-929a-12dda537d0af\")) {                    Plotly.newPlot(                        \"1ad436cc-eb21-4d50-929a-12dda537d0af\",                        [{\"alignmentgroup\":\"True\",\"hovertemplate\":\"variable=%{x}<br>value=%{y}<extra></extra>\",\"legendgroup\":\"\",\"marker\":{\"color\":\"#636efa\"},\"name\":\"\",\"notched\":false,\"offsetgroup\":\"\",\"orientation\":\"v\",\"showlegend\":false,\"x\":[\"LR\",\"LR\",\"LR\",\"LR\",\"LR\",\"LR\",\"LR\",\"LR\",\"LR\",\"LR\",\"CART\",\"CART\",\"CART\",\"CART\",\"CART\",\"CART\",\"CART\",\"CART\",\"CART\",\"CART\",\"NB\",\"NB\",\"NB\",\"NB\",\"NB\",\"NB\",\"NB\",\"NB\",\"NB\",\"NB\",\"SVM\",\"SVM\",\"SVM\",\"SVM\",\"SVM\",\"SVM\",\"SVM\",\"SVM\",\"SVM\",\"SVM\",\"RF\",\"RF\",\"RF\",\"RF\",\"RF\",\"RF\",\"RF\",\"RF\",\"RF\",\"RF\"],\"x0\":\" \",\"xaxis\":\"x\",\"y\":[0.75,0.8181818181818182,0.7777777777777778,0.75,1.0,0.9166666666666666,0.8181818181818182,0.7272727272727273,0.8571428571428571,0.8571428571428571,0.8125,0.9090909090909091,1.0,0.875,1.0,0.9166666666666666,0.9090909090909091,0.8181818181818182,0.8571428571428571,0.9285714285714286,0.875,1.0,0.7777777777777778,1.0,1.0,0.9166666666666666,0.8181818181818182,0.8181818181818182,0.8571428571428571,0.9285714285714286,0.5,0.8181818181818182,0.5555555555555556,0.375,0.75,0.5833333333333334,0.45454545454545453,0.09090909090909091,0.7142857142857143,0.35714285714285715,0.8125,0.9090909090909091,0.8888888888888888,0.875,1.0,0.9166666666666666,0.9090909090909091,0.9090909090909091,0.7142857142857143,0.9285714285714286],\"y0\":\" \",\"yaxis\":\"y\",\"type\":\"box\"}],                        {\"template\":{\"data\":{\"histogram2dcontour\":[{\"type\":\"histogram2dcontour\",\"colorbar\":{\"outlinewidth\":0,\"ticks\":\"\"},\"colorscale\":[[0.0,\"#0d0887\"],[0.1111111111111111,\"#46039f\"],[0.2222222222222222,\"#7201a8\"],[0.3333333333333333,\"#9c179e\"],[0.4444444444444444,\"#bd3786\"],[0.5555555555555556,\"#d8576b\"],[0.6666666666666666,\"#ed7953\"],[0.7777777777777778,\"#fb9f3a\"],[0.8888888888888888,\"#fdca26\"],[1.0,\"#f0f921\"]]}],\"choropleth\":[{\"type\":\"choropleth\",\"colorbar\":{\"outlinewidth\":0,\"ticks\":\"\"}}],\"histogram2d\":[{\"type\":\"histogram2d\",\"colorbar\":{\"outlinewidth\":0,\"ticks\":\"\"},\"colorscale\":[[0.0,\"#0d0887\"],[0.1111111111111111,\"#46039f\"],[0.2222222222222222,\"#7201a8\"],[0.3333333333333333,\"#9c179e\"],[0.4444444444444444,\"#bd3786\"],[0.5555555555555556,\"#d8576b\"],[0.6666666666666666,\"#ed7953\"],[0.7777777777777778,\"#fb9f3a\"],[0.8888888888888888,\"#fdca26\"],[1.0,\"#f0f921\"]]}],\"heatmap\":[{\"type\":\"heatmap\",\"colorbar\":{\"outlinewidth\":0,\"ticks\":\"\"},\"colorscale\":[[0.0,\"#0d0887\"],[0.1111111111111111,\"#46039f\"],[0.2222222222222222,\"#7201a8\"],[0.3333333333333333,\"#9c179e\"],[0.4444444444444444,\"#bd3786\"],[0.5555555555555556,\"#d8576b\"],[0.6666666666666666,\"#ed7953\"],[0.7777777777777778,\"#fb9f3a\"],[0.8888888888888888,\"#fdca26\"],[1.0,\"#f0f921\"]]}],\"heatmapgl\":[{\"type\":\"heatmapgl\",\"colorbar\":{\"outlinewidth\":0,\"ticks\":\"\"},\"colorscale\":[[0.0,\"#0d0887\"],[0.1111111111111111,\"#46039f\"],[0.2222222222222222,\"#7201a8\"],[0.3333333333333333,\"#9c179e\"],[0.4444444444444444,\"#bd3786\"],[0.5555555555555556,\"#d8576b\"],[0.6666666666666666,\"#ed7953\"],[0.7777777777777778,\"#fb9f3a\"],[0.8888888888888888,\"#fdca26\"],[1.0,\"#f0f921\"]]}],\"contourcarpet\":[{\"type\":\"contourcarpet\",\"colorbar\":{\"outlinewidth\":0,\"ticks\":\"\"}}],\"contour\":[{\"type\":\"contour\",\"colorbar\":{\"outlinewidth\":0,\"ticks\":\"\"},\"colorscale\":[[0.0,\"#0d0887\"],[0.1111111111111111,\"#46039f\"],[0.2222222222222222,\"#7201a8\"],[0.3333333333333333,\"#9c179e\"],[0.4444444444444444,\"#bd3786\"],[0.5555555555555556,\"#d8576b\"],[0.6666666666666666,\"#ed7953\"],[0.7777777777777778,\"#fb9f3a\"],[0.8888888888888888,\"#fdca26\"],[1.0,\"#f0f921\"]]}],\"surface\":[{\"type\":\"surface\",\"colorbar\":{\"outlinewidth\":0,\"ticks\":\"\"},\"colorscale\":[[0.0,\"#0d0887\"],[0.1111111111111111,\"#46039f\"],[0.2222222222222222,\"#7201a8\"],[0.3333333333333333,\"#9c179e\"],[0.4444444444444444,\"#bd3786\"],[0.5555555555555556,\"#d8576b\"],[0.6666666666666666,\"#ed7953\"],[0.7777777777777778,\"#fb9f3a\"],[0.8888888888888888,\"#fdca26\"],[1.0,\"#f0f921\"]]}],\"mesh3d\":[{\"type\":\"mesh3d\",\"colorbar\":{\"outlinewidth\":0,\"ticks\":\"\"}}],\"scatter\":[{\"marker\":{\"line\":{\"color\":\"#283442\"}},\"type\":\"scatter\"}],\"parcoords\":[{\"type\":\"parcoords\",\"line\":{\"colorbar\":{\"outlinewidth\":0,\"ticks\":\"\"}}}],\"scatterpolargl\":[{\"type\":\"scatterpolargl\",\"marker\":{\"colorbar\":{\"outlinewidth\":0,\"ticks\":\"\"}}}],\"bar\":[{\"error_x\":{\"color\":\"#f2f5fa\"},\"error_y\":{\"color\":\"#f2f5fa\"},\"marker\":{\"line\":{\"color\":\"rgb(17,17,17)\",\"width\":0.5},\"pattern\":{\"fillmode\":\"overlay\",\"size\":10,\"solidity\":0.2}},\"type\":\"bar\"}],\"scattergeo\":[{\"type\":\"scattergeo\",\"marker\":{\"colorbar\":{\"outlinewidth\":0,\"ticks\":\"\"}}}],\"scatterpolar\":[{\"type\":\"scatterpolar\",\"marker\":{\"colorbar\":{\"outlinewidth\":0,\"ticks\":\"\"}}}],\"histogram\":[{\"marker\":{\"pattern\":{\"fillmode\":\"overlay\",\"size\":10,\"solidity\":0.2}},\"type\":\"histogram\"}],\"scattergl\":[{\"marker\":{\"line\":{\"color\":\"#283442\"}},\"type\":\"scattergl\"}],\"scatter3d\":[{\"type\":\"scatter3d\",\"line\":{\"colorbar\":{\"outlinewidth\":0,\"ticks\":\"\"}},\"marker\":{\"colorbar\":{\"outlinewidth\":0,\"ticks\":\"\"}}}],\"scattermapbox\":[{\"type\":\"scattermapbox\",\"marker\":{\"colorbar\":{\"outlinewidth\":0,\"ticks\":\"\"}}}],\"scatterternary\":[{\"type\":\"scatterternary\",\"marker\":{\"colorbar\":{\"outlinewidth\":0,\"ticks\":\"\"}}}],\"scattercarpet\":[{\"type\":\"scattercarpet\",\"marker\":{\"colorbar\":{\"outlinewidth\":0,\"ticks\":\"\"}}}],\"carpet\":[{\"aaxis\":{\"endlinecolor\":\"#A2B1C6\",\"gridcolor\":\"#506784\",\"linecolor\":\"#506784\",\"minorgridcolor\":\"#506784\",\"startlinecolor\":\"#A2B1C6\"},\"baxis\":{\"endlinecolor\":\"#A2B1C6\",\"gridcolor\":\"#506784\",\"linecolor\":\"#506784\",\"minorgridcolor\":\"#506784\",\"startlinecolor\":\"#A2B1C6\"},\"type\":\"carpet\"}],\"table\":[{\"cells\":{\"fill\":{\"color\":\"#506784\"},\"line\":{\"color\":\"rgb(17,17,17)\"}},\"header\":{\"fill\":{\"color\":\"#2a3f5f\"},\"line\":{\"color\":\"rgb(17,17,17)\"}},\"type\":\"table\"}],\"barpolar\":[{\"marker\":{\"line\":{\"color\":\"rgb(17,17,17)\",\"width\":0.5},\"pattern\":{\"fillmode\":\"overlay\",\"size\":10,\"solidity\":0.2}},\"type\":\"barpolar\"}],\"pie\":[{\"automargin\":true,\"type\":\"pie\"}]},\"layout\":{\"autotypenumbers\":\"strict\",\"colorway\":[\"#636efa\",\"#EF553B\",\"#00cc96\",\"#ab63fa\",\"#FFA15A\",\"#19d3f3\",\"#FF6692\",\"#B6E880\",\"#FF97FF\",\"#FECB52\"],\"font\":{\"color\":\"#f2f5fa\"},\"hovermode\":\"closest\",\"hoverlabel\":{\"align\":\"left\"},\"paper_bgcolor\":\"rgb(17,17,17)\",\"plot_bgcolor\":\"rgb(17,17,17)\",\"polar\":{\"bgcolor\":\"rgb(17,17,17)\",\"angularaxis\":{\"gridcolor\":\"#506784\",\"linecolor\":\"#506784\",\"ticks\":\"\"},\"radialaxis\":{\"gridcolor\":\"#506784\",\"linecolor\":\"#506784\",\"ticks\":\"\"}},\"ternary\":{\"bgcolor\":\"rgb(17,17,17)\",\"aaxis\":{\"gridcolor\":\"#506784\",\"linecolor\":\"#506784\",\"ticks\":\"\"},\"baxis\":{\"gridcolor\":\"#506784\",\"linecolor\":\"#506784\",\"ticks\":\"\"},\"caxis\":{\"gridcolor\":\"#506784\",\"linecolor\":\"#506784\",\"ticks\":\"\"}},\"coloraxis\":{\"colorbar\":{\"outlinewidth\":0,\"ticks\":\"\"}},\"colorscale\":{\"sequential\":[[0.0,\"#0d0887\"],[0.1111111111111111,\"#46039f\"],[0.2222222222222222,\"#7201a8\"],[0.3333333333333333,\"#9c179e\"],[0.4444444444444444,\"#bd3786\"],[0.5555555555555556,\"#d8576b\"],[0.6666666666666666,\"#ed7953\"],[0.7777777777777778,\"#fb9f3a\"],[0.8888888888888888,\"#fdca26\"],[1.0,\"#f0f921\"]],\"sequentialminus\":[[0.0,\"#0d0887\"],[0.1111111111111111,\"#46039f\"],[0.2222222222222222,\"#7201a8\"],[0.3333333333333333,\"#9c179e\"],[0.4444444444444444,\"#bd3786\"],[0.5555555555555556,\"#d8576b\"],[0.6666666666666666,\"#ed7953\"],[0.7777777777777778,\"#fb9f3a\"],[0.8888888888888888,\"#fdca26\"],[1.0,\"#f0f921\"]],\"diverging\":[[0,\"#8e0152\"],[0.1,\"#c51b7d\"],[0.2,\"#de77ae\"],[0.3,\"#f1b6da\"],[0.4,\"#fde0ef\"],[0.5,\"#f7f7f7\"],[0.6,\"#e6f5d0\"],[0.7,\"#b8e186\"],[0.8,\"#7fbc41\"],[0.9,\"#4d9221\"],[1,\"#276419\"]]},\"xaxis\":{\"gridcolor\":\"#283442\",\"linecolor\":\"#506784\",\"ticks\":\"\",\"title\":{\"standoff\":15},\"zerolinecolor\":\"#283442\",\"automargin\":true,\"zerolinewidth\":2},\"yaxis\":{\"gridcolor\":\"#283442\",\"linecolor\":\"#506784\",\"ticks\":\"\",\"title\":{\"standoff\":15},\"zerolinecolor\":\"#283442\",\"automargin\":true,\"zerolinewidth\":2},\"scene\":{\"xaxis\":{\"backgroundcolor\":\"rgb(17,17,17)\",\"gridcolor\":\"#506784\",\"linecolor\":\"#506784\",\"showbackground\":true,\"ticks\":\"\",\"zerolinecolor\":\"#C8D4E3\",\"gridwidth\":2},\"yaxis\":{\"backgroundcolor\":\"rgb(17,17,17)\",\"gridcolor\":\"#506784\",\"linecolor\":\"#506784\",\"showbackground\":true,\"ticks\":\"\",\"zerolinecolor\":\"#C8D4E3\",\"gridwidth\":2},\"zaxis\":{\"backgroundcolor\":\"rgb(17,17,17)\",\"gridcolor\":\"#506784\",\"linecolor\":\"#506784\",\"showbackground\":true,\"ticks\":\"\",\"zerolinecolor\":\"#C8D4E3\",\"gridwidth\":2}},\"shapedefaults\":{\"line\":{\"color\":\"#f2f5fa\"}},\"annotationdefaults\":{\"arrowcolor\":\"#f2f5fa\",\"arrowhead\":0,\"arrowwidth\":1},\"geo\":{\"bgcolor\":\"rgb(17,17,17)\",\"landcolor\":\"rgb(17,17,17)\",\"subunitcolor\":\"#506784\",\"showland\":true,\"showlakes\":true,\"lakecolor\":\"rgb(17,17,17)\"},\"title\":{\"x\":0.05},\"updatemenudefaults\":{\"bgcolor\":\"#506784\",\"borderwidth\":0},\"sliderdefaults\":{\"bgcolor\":\"#C8D4E3\",\"borderwidth\":1,\"bordercolor\":\"rgb(17,17,17)\",\"tickwidth\":0},\"mapbox\":{\"style\":\"dark\"}}},\"xaxis\":{\"anchor\":\"y\",\"domain\":[0.0,1.0],\"title\":{\"text\":\"variable\"}},\"yaxis\":{\"anchor\":\"x\",\"domain\":[0.0,1.0],\"title\":{\"text\":\"value\"}},\"legend\":{\"tracegroupgap\":0},\"title\":{\"text\":\"Algorithm Comparison\"},\"boxmode\":\"group\"},                        {\"responsive\": true}                    ).then(function(){\n",
       "                            \n",
       "var gd = document.getElementById('1ad436cc-eb21-4d50-929a-12dda537d0af');\n",
       "var x = new MutationObserver(function (mutations, observer) {{\n",
       "        var display = window.getComputedStyle(gd).display;\n",
       "        if (!display || display === 'none') {{\n",
       "            console.log([gd, 'removed!']);\n",
       "            Plotly.purge(gd);\n",
       "            observer.disconnect();\n",
       "        }}\n",
       "}});\n",
       "\n",
       "// Listen for the removal of the full notebook cells\n",
       "var notebookContainer = gd.closest('#notebook-container');\n",
       "if (notebookContainer) {{\n",
       "    x.observe(notebookContainer, {childList: true});\n",
       "}}\n",
       "\n",
       "// Listen for the clearing of the current output cell\n",
       "var outputEl = gd.closest('.output');\n",
       "if (outputEl) {{\n",
       "    x.observe(outputEl, {childList: true});\n",
       "}}\n",
       "\n",
       "                        })                };                });            </script>        </div>"
      ]
     },
     "metadata": {},
     "output_type": "display_data"
    }
   ],
   "source": [
    "result_df = pd.DataFrame(results, index=names).T\n",
    "px.box(result_df,title = 'Algorithm Comparison')"
   ]
  },
  {
   "cell_type": "code",
   "execution_count": 106,
   "metadata": {
    "collapsed": false
   },
   "outputs": [
    {
     "data": {
      "text/plain": [
       "0.0    0.627417\n",
       "1.0    0.372583\n",
       "Name: diagnosis, dtype: float64"
      ]
     },
     "execution_count": 106,
     "metadata": {},
     "output_type": "execute_result"
    }
   ],
   "source": [
    "#priors calculation\n",
    "y.value_counts()/len(y)"
   ]
  },
  {
   "cell_type": "code",
   "execution_count": 107,
   "metadata": {
    "collapsed": false
   },
   "outputs": [],
   "source": [
    "a,b = y.value_counts()/len(y)"
   ]
  },
  {
   "cell_type": "markdown",
   "metadata": {},
   "source": [
    "## Hyperparameter selection"
   ]
  },
  {
   "cell_type": "code",
   "execution_count": 108,
   "metadata": {
    "collapsed": false
   },
   "outputs": [
    {
     "data": {
      "text/plain": [
       "{'n_estimators': 200}"
      ]
     },
     "execution_count": 108,
     "metadata": {},
     "output_type": "execute_result"
    }
   ],
   "source": [
    "parameters = {\n",
    "    'n_estimators': [200, 700],\n",
    "}\n",
    "\n",
    "grid_search = GridSearchCV(RandomForestClassifier(), parameters, cv=10, return_train_score=True)\n",
    "grid_search.fit(X_train_imputed, y_train)\n",
    "\n",
    "grid_search.best_params_"
   ]
  },
  {
   "cell_type": "code",
   "execution_count": 109,
   "metadata": {
    "collapsed": false
   },
   "outputs": [
    {
     "data": {
      "text/plain": [
       "0.9498850574712643"
      ]
     },
     "execution_count": 109,
     "metadata": {},
     "output_type": "execute_result"
    }
   ],
   "source": [
    "grid_search.best_score_"
   ]
  },
  {
   "cell_type": "code",
   "execution_count": 110,
   "metadata": {
    "collapsed": false
   },
   "outputs": [],
   "source": [
    "RF_best = grid_search.best_estimator_"
   ]
  },
  {
   "cell_type": "code",
   "execution_count": 111,
   "metadata": {
    "collapsed": false
   },
   "outputs": [],
   "source": [
    "from sklearn.metrics import plot_confusion_matrix\n",
    "from sklearn.metrics import classification_report\n",
    "from sklearn.metrics import confusion_matrix"
   ]
  },
  {
   "cell_type": "code",
   "execution_count": 112,
   "metadata": {
    "collapsed": false
   },
   "outputs": [],
   "source": [
    "RF_best.fit(X_train_imputed,y_train)\n",
    "y_pred = RF_best.predict(X_val_imputed)"
   ]
  },
  {
   "cell_type": "markdown",
   "metadata": {},
   "source": [
    "## Performance metrics"
   ]
  },
  {
   "cell_type": "code",
   "execution_count": 113,
   "metadata": {
    "collapsed": false
   },
   "outputs": [
    {
     "name": "stdout",
     "output_type": "stream",
     "text": [
      "              precision    recall  f1-score   support\n",
      "\n",
      "         0.0       0.92      1.00      0.96        61\n",
      "         1.0       1.00      0.87      0.93        39\n",
      "\n",
      "    accuracy                           0.95       100\n",
      "   macro avg       0.96      0.94      0.95       100\n",
      "weighted avg       0.95      0.95      0.95       100\n",
      "\n"
     ]
    }
   ],
   "source": [
    "print(classification_report(y_val, y_pred))"
   ]
  },
  {
   "cell_type": "markdown",
   "metadata": {
    "collapsed": false
   },
   "source": [
    "The confusion matrix show a good result by reaching 87% into de recall wich is the one that we have chose  , but it could be improved"
   ]
  },
  {
   "cell_type": "code",
   "execution_count": 114,
   "metadata": {
    "collapsed": false
   },
   "outputs": [
    {
     "name": "stderr",
     "output_type": "stream",
     "text": [
      "C:\\Users\\CAMARA22\\miniconda3\\envs\\project1\\lib\\site-packages\\sklearn\\utils\\deprecation.py:87: FutureWarning:\n",
      "\n",
      "Function plot_confusion_matrix is deprecated; Function `plot_confusion_matrix` is deprecated in 1.0 and will be removed in 1.2. Use one of the class methods: ConfusionMatrixDisplay.from_predictions or ConfusionMatrixDisplay.from_estimator.\n",
      "\n"
     ]
    },
    {
     "data": {
      "image/png": "[encoded data removed]",
      "text/plain": [
       "<Figure size 640x480 with 2 Axes>"
      ]
     },
     "metadata": {},
     "output_type": "display_data"
    }
   ],
   "source": [
    "plot_confusion_matrix(RF_best, X_val_imputed, y_val,cmap=plt.cm.Blues);"
   ]
  },
  {
   "cell_type": "code",
   "execution_count": 115,
   "metadata": {
    "collapsed": false
   },
   "outputs": [
    {
     "data": {
      "text/plain": [
       "0.8717948717948718"
      ]
     },
     "execution_count": 115,
     "metadata": {},
     "output_type": "execute_result"
    }
   ],
   "source": [
    "tn, fp, fn, tp = confusion_matrix(y_val, y_pred).ravel()\n",
    "sensitivity = tp / (tp+fn)\n",
    "sensitivity"
   ]
  },
  {
   "cell_type": "code",
   "execution_count": 116,
   "metadata": {
    "collapsed": false
   },
   "outputs": [
    {
     "data": {
      "text/html": [
       "<div>\n",
       "<style scoped>\n",
       "    .dataframe tbody tr th:only-of-type {\n",
       "        vertical-align: middle;\n",
       "    }\n",
       "\n",
       "    .dataframe tbody tr th {\n",
       "        vertical-align: top;\n",
       "    }\n",
       "\n",
       "    .dataframe thead th {\n",
       "        text-align: right;\n",
       "    }\n",
       "</style>\n",
       "<table border=\"1\" class=\"dataframe\">\n",
       "  <thead>\n",
       "    <tr style=\"text-align: right;\">\n",
       "      <th></th>\n",
       "      <th>radius_worst</th>\n",
       "      <th>concavity_worst</th>\n",
       "      <th>fractal_dimension_worst</th>\n",
       "      <th>texture_worst</th>\n",
       "      <th>smoothness_worst</th>\n",
       "      <th>symmetry_worst</th>\n",
       "      <th>perimeter_se</th>\n",
       "      <th>smoothness_se</th>\n",
       "      <th>texture_se</th>\n",
       "      <th>fractal_dimension_se</th>\n",
       "      <th>symmetry_se</th>\n",
       "      <th>symmetry_mean</th>\n",
       "    </tr>\n",
       "  </thead>\n",
       "  <tbody>\n",
       "    <tr>\n",
       "      <th>421</th>\n",
       "      <td>13.32</td>\n",
       "      <td>0.195600</td>\n",
       "      <td>0.07987</td>\n",
       "      <td>26.21</td>\n",
       "      <td>0.1358</td>\n",
       "      <td>0.3168</td>\n",
       "      <td>3926.0000</td>\n",
       "      <td>0.009433</td>\n",
       "      <td>1693.0000</td>\n",
       "      <td>0.005061</td>\n",
       "      <td>0.03397</td>\n",
       "      <td>0.1993</td>\n",
       "    </tr>\n",
       "    <tr>\n",
       "      <th>47</th>\n",
       "      <td>23.69</td>\n",
       "      <td>0.321500</td>\n",
       "      <td>0.06637</td>\n",
       "      <td>38.25</td>\n",
       "      <td>0.1166</td>\n",
       "      <td>0.2572</td>\n",
       "      <td>5203.0000</td>\n",
       "      <td>0.005769</td>\n",
       "      <td>2463.0000</td>\n",
       "      <td>0.002498</td>\n",
       "      <td>0.01898</td>\n",
       "      <td>0.1752</td>\n",
       "    </tr>\n",
       "    <tr>\n",
       "      <th>292</th>\n",
       "      <td>13.86</td>\n",
       "      <td>NaN</td>\n",
       "      <td>0.07834</td>\n",
       "      <td>23.02</td>\n",
       "      <td>0.1172</td>\n",
       "      <td>0.3297</td>\n",
       "      <td>0.9975</td>\n",
       "      <td>0.002887</td>\n",
       "      <td>905.0000</td>\n",
       "      <td>0.001972</td>\n",
       "      <td>0.01870</td>\n",
       "      <td>0.1735</td>\n",
       "    </tr>\n",
       "    <tr>\n",
       "      <th>186</th>\n",
       "      <td>18.51</td>\n",
       "      <td>0.402900</td>\n",
       "      <td>0.09438</td>\n",
       "      <td>33.22</td>\n",
       "      <td>NaN</td>\n",
       "      <td>0.2654</td>\n",
       "      <td>4174.0000</td>\n",
       "      <td>0.010520</td>\n",
       "      <td>1506.0000</td>\n",
       "      <td>0.004867</td>\n",
       "      <td>0.02120</td>\n",
       "      <td>0.1647</td>\n",
       "    </tr>\n",
       "    <tr>\n",
       "      <th>414</th>\n",
       "      <td>19.96</td>\n",
       "      <td>NaN</td>\n",
       "      <td>0.05737</td>\n",
       "      <td>24.30</td>\n",
       "      <td>0.1243</td>\n",
       "      <td>0.2567</td>\n",
       "      <td>2363.0000</td>\n",
       "      <td>0.007571</td>\n",
       "      <td>828.0000</td>\n",
       "      <td>0.001676</td>\n",
       "      <td>0.01930</td>\n",
       "      <td>NaN</td>\n",
       "    </tr>\n",
       "    <tr>\n",
       "      <th>...</th>\n",
       "      <td>...</td>\n",
       "      <td>...</td>\n",
       "      <td>...</td>\n",
       "      <td>...</td>\n",
       "      <td>...</td>\n",
       "      <td>...</td>\n",
       "      <td>...</td>\n",
       "      <td>...</td>\n",
       "      <td>...</td>\n",
       "      <td>...</td>\n",
       "      <td>...</td>\n",
       "      <td>...</td>\n",
       "    </tr>\n",
       "    <tr>\n",
       "      <th>6</th>\n",
       "      <td>17.39</td>\n",
       "      <td>0.589700</td>\n",
       "      <td>0.09136</td>\n",
       "      <td>23.05</td>\n",
       "      <td>0.1377</td>\n",
       "      <td>0.3318</td>\n",
       "      <td>3.0700</td>\n",
       "      <td>0.009197</td>\n",
       "      <td>0.9857</td>\n",
       "      <td>0.006355</td>\n",
       "      <td>0.02773</td>\n",
       "      <td>0.2151</td>\n",
       "    </tr>\n",
       "    <tr>\n",
       "      <th>487</th>\n",
       "      <td>15.98</td>\n",
       "      <td>0.077500</td>\n",
       "      <td>0.06085</td>\n",
       "      <td>25.82</td>\n",
       "      <td>0.1045</td>\n",
       "      <td>0.2646</td>\n",
       "      <td>1286.0000</td>\n",
       "      <td>0.003634</td>\n",
       "      <td>1065.0000</td>\n",
       "      <td>0.001520</td>\n",
       "      <td>0.01924</td>\n",
       "      <td>0.1515</td>\n",
       "    </tr>\n",
       "    <tr>\n",
       "      <th>11</th>\n",
       "      <td>14.11</td>\n",
       "      <td>0.170300</td>\n",
       "      <td>0.07609</td>\n",
       "      <td>23.21</td>\n",
       "      <td>0.1176</td>\n",
       "      <td>0.2618</td>\n",
       "      <td>1.7400</td>\n",
       "      <td>0.004854</td>\n",
       "      <td>1025.0000</td>\n",
       "      <td>0.002304</td>\n",
       "      <td>0.01386</td>\n",
       "      <td>NaN</td>\n",
       "    </tr>\n",
       "    <tr>\n",
       "      <th>268</th>\n",
       "      <td>NaN</td>\n",
       "      <td>0.344200</td>\n",
       "      <td>0.08218</td>\n",
       "      <td>NaN</td>\n",
       "      <td>0.1401</td>\n",
       "      <td>0.2868</td>\n",
       "      <td>NaN</td>\n",
       "      <td>0.004551</td>\n",
       "      <td>1617.0000</td>\n",
       "      <td>0.002299</td>\n",
       "      <td>0.01367</td>\n",
       "      <td>0.1769</td>\n",
       "    </tr>\n",
       "    <tr>\n",
       "      <th>419</th>\n",
       "      <td>13.50</td>\n",
       "      <td>0.005579</td>\n",
       "      <td>0.06431</td>\n",
       "      <td>23.08</td>\n",
       "      <td>0.1038</td>\n",
       "      <td>0.2505</td>\n",
       "      <td>1721.0000</td>\n",
       "      <td>0.006383</td>\n",
       "      <td>1.3500</td>\n",
       "      <td>0.002015</td>\n",
       "      <td>0.02571</td>\n",
       "      <td>0.1697</td>\n",
       "    </tr>\n",
       "  </tbody>\n",
       "</table>\n",
       "<p>171 rows × 12 columns</p>\n",
       "</div>"
      ],
      "text/plain": [
       "     radius_worst  concavity_worst  fractal_dimension_worst  texture_worst  \\\n",
       "421         13.32         0.195600                  0.07987          26.21   \n",
       "47          23.69         0.321500                  0.06637          38.25   \n",
       "292         13.86              NaN                  0.07834          23.02   \n",
       "186         18.51         0.402900                  0.09438          33.22   \n",
       "414         19.96              NaN                  0.05737          24.30   \n",
       "..            ...              ...                      ...            ...   \n",
       "6           17.39         0.589700                  0.09136          23.05   \n",
       "487         15.98         0.077500                  0.06085          25.82   \n",
       "11          14.11         0.170300                  0.07609          23.21   \n",
       "268           NaN         0.344200                  0.08218            NaN   \n",
       "419         13.50         0.005579                  0.06431          23.08   \n",
       "\n",
       "     smoothness_worst  symmetry_worst  perimeter_se  smoothness_se  \\\n",
       "421            0.1358          0.3168     3926.0000       0.009433   \n",
       "47             0.1166          0.2572     5203.0000       0.005769   \n",
       "292            0.1172          0.3297        0.9975       0.002887   \n",
       "186               NaN          0.2654     4174.0000       0.010520   \n",
       "414            0.1243          0.2567     2363.0000       0.007571   \n",
       "..                ...             ...           ...            ...   \n",
       "6              0.1377          0.3318        3.0700       0.009197   \n",
       "487            0.1045          0.2646     1286.0000       0.003634   \n",
       "11             0.1176          0.2618        1.7400       0.004854   \n",
       "268            0.1401          0.2868           NaN       0.004551   \n",
       "419            0.1038          0.2505     1721.0000       0.006383   \n",
       "\n",
       "     texture_se  fractal_dimension_se  symmetry_se  symmetry_mean  \n",
       "421   1693.0000              0.005061      0.03397         0.1993  \n",
       "47    2463.0000              0.002498      0.01898         0.1752  \n",
       "292    905.0000              0.001972      0.01870         0.1735  \n",
       "186   1506.0000              0.004867      0.02120         0.1647  \n",
       "414    828.0000              0.001676      0.01930            NaN  \n",
       "..          ...                   ...          ...            ...  \n",
       "6        0.9857              0.006355      0.02773         0.2151  \n",
       "487   1065.0000              0.001520      0.01924         0.1515  \n",
       "11    1025.0000              0.002304      0.01386            NaN  \n",
       "268   1617.0000              0.002299      0.01367         0.1769  \n",
       "419      1.3500              0.002015      0.02571         0.1697  \n",
       "\n",
       "[171 rows x 12 columns]"
      ]
     },
     "execution_count": 116,
     "metadata": {},
     "output_type": "execute_result"
    }
   ],
   "source": [
    "X_test"
   ]
  },
  {
   "cell_type": "markdown",
   "metadata": {
    "collapsed": false
   },
   "source": [
    "*organizando X_test para evaluarla en el modelo*"
   ]
  },
  {
   "cell_type": "markdown",
   "metadata": {},
   "source": [
    "## Applying the same procedure to test dataset"
   ]
  },
  {
   "cell_type": "code",
   "execution_count": 117,
   "metadata": {
    "collapsed": false
   },
   "outputs": [],
   "source": [
    "tipificado = StandardScaler().fit(X_test)\n",
    "standardized_X_val= tipificado.transform(X_test)"
   ]
  },
  {
   "cell_type": "code",
   "execution_count": 118,
   "metadata": {
    "collapsed": false
   },
   "outputs": [
    {
     "data": {
      "text/html": [
       "<div>\n",
       "<style scoped>\n",
       "    .dataframe tbody tr th:only-of-type {\n",
       "        vertical-align: middle;\n",
       "    }\n",
       "\n",
       "    .dataframe tbody tr th {\n",
       "        vertical-align: top;\n",
       "    }\n",
       "\n",
       "    .dataframe thead th {\n",
       "        text-align: right;\n",
       "    }\n",
       "</style>\n",
       "<table border=\"1\" class=\"dataframe\">\n",
       "  <thead>\n",
       "    <tr style=\"text-align: right;\">\n",
       "      <th></th>\n",
       "      <th>radius_worst</th>\n",
       "      <th>concavity_worst</th>\n",
       "      <th>fractal_dimension_worst</th>\n",
       "      <th>texture_worst</th>\n",
       "      <th>smoothness_worst</th>\n",
       "      <th>symmetry_worst</th>\n",
       "      <th>perimeter_se</th>\n",
       "      <th>smoothness_se</th>\n",
       "      <th>texture_se</th>\n",
       "      <th>fractal_dimension_se</th>\n",
       "      <th>symmetry_se</th>\n",
       "      <th>symmetry_mean</th>\n",
       "    </tr>\n",
       "  </thead>\n",
       "  <tbody>\n",
       "    <tr>\n",
       "      <th>0</th>\n",
       "      <td>13.320</td>\n",
       "      <td>0.195600</td>\n",
       "      <td>0.07987</td>\n",
       "      <td>26.210</td>\n",
       "      <td>0.13580</td>\n",
       "      <td>0.3168</td>\n",
       "      <td>3926.0000</td>\n",
       "      <td>0.009433</td>\n",
       "      <td>1693.0000</td>\n",
       "      <td>0.005061</td>\n",
       "      <td>0.03397</td>\n",
       "      <td>0.1993</td>\n",
       "    </tr>\n",
       "    <tr>\n",
       "      <th>1</th>\n",
       "      <td>23.690</td>\n",
       "      <td>0.321500</td>\n",
       "      <td>0.06637</td>\n",
       "      <td>38.250</td>\n",
       "      <td>0.11660</td>\n",
       "      <td>0.2572</td>\n",
       "      <td>5203.0000</td>\n",
       "      <td>0.005769</td>\n",
       "      <td>2463.0000</td>\n",
       "      <td>0.002498</td>\n",
       "      <td>0.01898</td>\n",
       "      <td>0.1752</td>\n",
       "    </tr>\n",
       "    <tr>\n",
       "      <th>2</th>\n",
       "      <td>13.860</td>\n",
       "      <td>0.235680</td>\n",
       "      <td>0.07834</td>\n",
       "      <td>23.020</td>\n",
       "      <td>0.11720</td>\n",
       "      <td>0.3297</td>\n",
       "      <td>0.9975</td>\n",
       "      <td>0.002887</td>\n",
       "      <td>905.0000</td>\n",
       "      <td>0.001972</td>\n",
       "      <td>0.01870</td>\n",
       "      <td>0.1735</td>\n",
       "    </tr>\n",
       "    <tr>\n",
       "      <th>3</th>\n",
       "      <td>18.510</td>\n",
       "      <td>0.402900</td>\n",
       "      <td>0.09438</td>\n",
       "      <td>33.220</td>\n",
       "      <td>0.14088</td>\n",
       "      <td>0.2654</td>\n",
       "      <td>4174.0000</td>\n",
       "      <td>0.010520</td>\n",
       "      <td>1506.0000</td>\n",
       "      <td>0.004867</td>\n",
       "      <td>0.02120</td>\n",
       "      <td>0.1647</td>\n",
       "    </tr>\n",
       "    <tr>\n",
       "      <th>4</th>\n",
       "      <td>19.960</td>\n",
       "      <td>0.216014</td>\n",
       "      <td>0.05737</td>\n",
       "      <td>24.300</td>\n",
       "      <td>0.12430</td>\n",
       "      <td>0.2567</td>\n",
       "      <td>2363.0000</td>\n",
       "      <td>0.007571</td>\n",
       "      <td>828.0000</td>\n",
       "      <td>0.001676</td>\n",
       "      <td>0.01930</td>\n",
       "      <td>0.1683</td>\n",
       "    </tr>\n",
       "    <tr>\n",
       "      <th>...</th>\n",
       "      <td>...</td>\n",
       "      <td>...</td>\n",
       "      <td>...</td>\n",
       "      <td>...</td>\n",
       "      <td>...</td>\n",
       "      <td>...</td>\n",
       "      <td>...</td>\n",
       "      <td>...</td>\n",
       "      <td>...</td>\n",
       "      <td>...</td>\n",
       "      <td>...</td>\n",
       "      <td>...</td>\n",
       "    </tr>\n",
       "    <tr>\n",
       "      <th>166</th>\n",
       "      <td>17.390</td>\n",
       "      <td>0.589700</td>\n",
       "      <td>0.09136</td>\n",
       "      <td>23.050</td>\n",
       "      <td>0.13770</td>\n",
       "      <td>0.3318</td>\n",
       "      <td>3.0700</td>\n",
       "      <td>0.009197</td>\n",
       "      <td>0.9857</td>\n",
       "      <td>0.006355</td>\n",
       "      <td>0.02773</td>\n",
       "      <td>0.2151</td>\n",
       "    </tr>\n",
       "    <tr>\n",
       "      <th>167</th>\n",
       "      <td>15.980</td>\n",
       "      <td>0.077500</td>\n",
       "      <td>0.06085</td>\n",
       "      <td>25.820</td>\n",
       "      <td>0.10450</td>\n",
       "      <td>0.2646</td>\n",
       "      <td>1286.0000</td>\n",
       "      <td>0.003634</td>\n",
       "      <td>1065.0000</td>\n",
       "      <td>0.001520</td>\n",
       "      <td>0.01924</td>\n",
       "      <td>0.1515</td>\n",
       "    </tr>\n",
       "    <tr>\n",
       "      <th>168</th>\n",
       "      <td>14.110</td>\n",
       "      <td>0.170300</td>\n",
       "      <td>0.07609</td>\n",
       "      <td>23.210</td>\n",
       "      <td>0.11760</td>\n",
       "      <td>0.2618</td>\n",
       "      <td>1.7400</td>\n",
       "      <td>0.004854</td>\n",
       "      <td>1025.0000</td>\n",
       "      <td>0.002304</td>\n",
       "      <td>0.01386</td>\n",
       "      <td>0.1791</td>\n",
       "    </tr>\n",
       "    <tr>\n",
       "      <th>169</th>\n",
       "      <td>16.244</td>\n",
       "      <td>0.344200</td>\n",
       "      <td>0.08218</td>\n",
       "      <td>27.216</td>\n",
       "      <td>0.14010</td>\n",
       "      <td>0.2868</td>\n",
       "      <td>1484.8460</td>\n",
       "      <td>0.004551</td>\n",
       "      <td>1617.0000</td>\n",
       "      <td>0.002299</td>\n",
       "      <td>0.01367</td>\n",
       "      <td>0.1769</td>\n",
       "    </tr>\n",
       "    <tr>\n",
       "      <th>170</th>\n",
       "      <td>13.500</td>\n",
       "      <td>0.005579</td>\n",
       "      <td>0.06431</td>\n",
       "      <td>23.080</td>\n",
       "      <td>0.10380</td>\n",
       "      <td>0.2505</td>\n",
       "      <td>1721.0000</td>\n",
       "      <td>0.006383</td>\n",
       "      <td>1.3500</td>\n",
       "      <td>0.002015</td>\n",
       "      <td>0.02571</td>\n",
       "      <td>0.1697</td>\n",
       "    </tr>\n",
       "  </tbody>\n",
       "</table>\n",
       "<p>171 rows × 12 columns</p>\n",
       "</div>"
      ],
      "text/plain": [
       "     radius_worst  concavity_worst  fractal_dimension_worst  texture_worst  \\\n",
       "0          13.320         0.195600                  0.07987         26.210   \n",
       "1          23.690         0.321500                  0.06637         38.250   \n",
       "2          13.860         0.235680                  0.07834         23.020   \n",
       "3          18.510         0.402900                  0.09438         33.220   \n",
       "4          19.960         0.216014                  0.05737         24.300   \n",
       "..            ...              ...                      ...            ...   \n",
       "166        17.390         0.589700                  0.09136         23.050   \n",
       "167        15.980         0.077500                  0.06085         25.820   \n",
       "168        14.110         0.170300                  0.07609         23.210   \n",
       "169        16.244         0.344200                  0.08218         27.216   \n",
       "170        13.500         0.005579                  0.06431         23.080   \n",
       "\n",
       "     smoothness_worst  symmetry_worst  perimeter_se  smoothness_se  \\\n",
       "0             0.13580          0.3168     3926.0000       0.009433   \n",
       "1             0.11660          0.2572     5203.0000       0.005769   \n",
       "2             0.11720          0.3297        0.9975       0.002887   \n",
       "3             0.14088          0.2654     4174.0000       0.010520   \n",
       "4             0.12430          0.2567     2363.0000       0.007571   \n",
       "..                ...             ...           ...            ...   \n",
       "166           0.13770          0.3318        3.0700       0.009197   \n",
       "167           0.10450          0.2646     1286.0000       0.003634   \n",
       "168           0.11760          0.2618        1.7400       0.004854   \n",
       "169           0.14010          0.2868     1484.8460       0.004551   \n",
       "170           0.10380          0.2505     1721.0000       0.006383   \n",
       "\n",
       "     texture_se  fractal_dimension_se  symmetry_se  symmetry_mean  \n",
       "0     1693.0000              0.005061      0.03397         0.1993  \n",
       "1     2463.0000              0.002498      0.01898         0.1752  \n",
       "2      905.0000              0.001972      0.01870         0.1735  \n",
       "3     1506.0000              0.004867      0.02120         0.1647  \n",
       "4      828.0000              0.001676      0.01930         0.1683  \n",
       "..          ...                   ...          ...            ...  \n",
       "166      0.9857              0.006355      0.02773         0.2151  \n",
       "167   1065.0000              0.001520      0.01924         0.1515  \n",
       "168   1025.0000              0.002304      0.01386         0.1791  \n",
       "169   1617.0000              0.002299      0.01367         0.1769  \n",
       "170      1.3500              0.002015      0.02571         0.1697  \n",
       "\n",
       "[171 rows x 12 columns]"
      ]
     },
     "execution_count": 118,
     "metadata": {},
     "output_type": "execute_result"
    }
   ],
   "source": [
    "imputer = KNNImputer(n_neighbors=5)\n",
    "X_test_imputed = pd.DataFrame(imputer.fit_transform(X_test),columns=X_test.columns)\n",
    "X_test_imputed"
   ]
  },
  {
   "cell_type": "code",
   "execution_count": 119,
   "metadata": {
    "collapsed": false
   },
   "outputs": [
    {
     "data": {
      "text/html": [
       "<div>\n",
       "<style scoped>\n",
       "    .dataframe tbody tr th:only-of-type {\n",
       "        vertical-align: middle;\n",
       "    }\n",
       "\n",
       "    .dataframe tbody tr th {\n",
       "        vertical-align: top;\n",
       "    }\n",
       "\n",
       "    .dataframe thead th {\n",
       "        text-align: right;\n",
       "    }\n",
       "</style>\n",
       "<table border=\"1\" class=\"dataframe\">\n",
       "  <thead>\n",
       "    <tr style=\"text-align: right;\">\n",
       "      <th></th>\n",
       "      <th>radius_worst</th>\n",
       "      <th>concavity_worst</th>\n",
       "      <th>fractal_dimension_worst</th>\n",
       "      <th>texture_worst</th>\n",
       "      <th>smoothness_worst</th>\n",
       "      <th>symmetry_worst</th>\n",
       "      <th>perimeter_se</th>\n",
       "      <th>smoothness_se</th>\n",
       "      <th>texture_se</th>\n",
       "      <th>fractal_dimension_se</th>\n",
       "      <th>symmetry_se</th>\n",
       "      <th>symmetry_mean</th>\n",
       "    </tr>\n",
       "  </thead>\n",
       "  <tbody>\n",
       "    <tr>\n",
       "      <th>0</th>\n",
       "      <td>13.320</td>\n",
       "      <td>0.195600</td>\n",
       "      <td>0.07987</td>\n",
       "      <td>26.210</td>\n",
       "      <td>0.13580</td>\n",
       "      <td>0.3168</td>\n",
       "      <td>3926.0000</td>\n",
       "      <td>0.009433</td>\n",
       "      <td>1693.0000</td>\n",
       "      <td>0.005061</td>\n",
       "      <td>0.03397</td>\n",
       "      <td>0.1993</td>\n",
       "    </tr>\n",
       "    <tr>\n",
       "      <th>1</th>\n",
       "      <td>23.690</td>\n",
       "      <td>0.321500</td>\n",
       "      <td>0.06637</td>\n",
       "      <td>38.250</td>\n",
       "      <td>0.11660</td>\n",
       "      <td>0.2572</td>\n",
       "      <td>5203.0000</td>\n",
       "      <td>0.005769</td>\n",
       "      <td>2463.0000</td>\n",
       "      <td>0.002498</td>\n",
       "      <td>0.01898</td>\n",
       "      <td>0.1752</td>\n",
       "    </tr>\n",
       "    <tr>\n",
       "      <th>2</th>\n",
       "      <td>13.860</td>\n",
       "      <td>0.235680</td>\n",
       "      <td>0.07834</td>\n",
       "      <td>23.020</td>\n",
       "      <td>0.11720</td>\n",
       "      <td>0.3297</td>\n",
       "      <td>0.9975</td>\n",
       "      <td>0.002887</td>\n",
       "      <td>905.0000</td>\n",
       "      <td>0.001972</td>\n",
       "      <td>0.01870</td>\n",
       "      <td>0.1735</td>\n",
       "    </tr>\n",
       "    <tr>\n",
       "      <th>3</th>\n",
       "      <td>18.510</td>\n",
       "      <td>0.402900</td>\n",
       "      <td>0.09438</td>\n",
       "      <td>33.220</td>\n",
       "      <td>0.14088</td>\n",
       "      <td>0.2654</td>\n",
       "      <td>4174.0000</td>\n",
       "      <td>0.010520</td>\n",
       "      <td>1506.0000</td>\n",
       "      <td>0.004867</td>\n",
       "      <td>0.02120</td>\n",
       "      <td>0.1647</td>\n",
       "    </tr>\n",
       "    <tr>\n",
       "      <th>4</th>\n",
       "      <td>19.960</td>\n",
       "      <td>0.216014</td>\n",
       "      <td>0.05737</td>\n",
       "      <td>24.300</td>\n",
       "      <td>0.12430</td>\n",
       "      <td>0.2567</td>\n",
       "      <td>2363.0000</td>\n",
       "      <td>0.007571</td>\n",
       "      <td>828.0000</td>\n",
       "      <td>0.001676</td>\n",
       "      <td>0.01930</td>\n",
       "      <td>0.1683</td>\n",
       "    </tr>\n",
       "    <tr>\n",
       "      <th>...</th>\n",
       "      <td>...</td>\n",
       "      <td>...</td>\n",
       "      <td>...</td>\n",
       "      <td>...</td>\n",
       "      <td>...</td>\n",
       "      <td>...</td>\n",
       "      <td>...</td>\n",
       "      <td>...</td>\n",
       "      <td>...</td>\n",
       "      <td>...</td>\n",
       "      <td>...</td>\n",
       "      <td>...</td>\n",
       "    </tr>\n",
       "    <tr>\n",
       "      <th>166</th>\n",
       "      <td>17.390</td>\n",
       "      <td>0.589700</td>\n",
       "      <td>0.09136</td>\n",
       "      <td>23.050</td>\n",
       "      <td>0.13770</td>\n",
       "      <td>0.3318</td>\n",
       "      <td>3.0700</td>\n",
       "      <td>0.009197</td>\n",
       "      <td>0.9857</td>\n",
       "      <td>0.006355</td>\n",
       "      <td>0.02773</td>\n",
       "      <td>0.2151</td>\n",
       "    </tr>\n",
       "    <tr>\n",
       "      <th>167</th>\n",
       "      <td>15.980</td>\n",
       "      <td>0.077500</td>\n",
       "      <td>0.06085</td>\n",
       "      <td>25.820</td>\n",
       "      <td>0.10450</td>\n",
       "      <td>0.2646</td>\n",
       "      <td>1286.0000</td>\n",
       "      <td>0.003634</td>\n",
       "      <td>1065.0000</td>\n",
       "      <td>0.001520</td>\n",
       "      <td>0.01924</td>\n",
       "      <td>0.1515</td>\n",
       "    </tr>\n",
       "    <tr>\n",
       "      <th>168</th>\n",
       "      <td>14.110</td>\n",
       "      <td>0.170300</td>\n",
       "      <td>0.07609</td>\n",
       "      <td>23.210</td>\n",
       "      <td>0.11760</td>\n",
       "      <td>0.2618</td>\n",
       "      <td>1.7400</td>\n",
       "      <td>0.004854</td>\n",
       "      <td>1025.0000</td>\n",
       "      <td>0.002304</td>\n",
       "      <td>0.01386</td>\n",
       "      <td>0.1791</td>\n",
       "    </tr>\n",
       "    <tr>\n",
       "      <th>169</th>\n",
       "      <td>16.244</td>\n",
       "      <td>0.344200</td>\n",
       "      <td>0.08218</td>\n",
       "      <td>27.216</td>\n",
       "      <td>0.14010</td>\n",
       "      <td>0.2868</td>\n",
       "      <td>1484.8460</td>\n",
       "      <td>0.004551</td>\n",
       "      <td>1617.0000</td>\n",
       "      <td>0.002299</td>\n",
       "      <td>0.01367</td>\n",
       "      <td>0.1769</td>\n",
       "    </tr>\n",
       "    <tr>\n",
       "      <th>170</th>\n",
       "      <td>13.500</td>\n",
       "      <td>0.005579</td>\n",
       "      <td>0.06431</td>\n",
       "      <td>23.080</td>\n",
       "      <td>0.10380</td>\n",
       "      <td>0.2505</td>\n",
       "      <td>1721.0000</td>\n",
       "      <td>0.006383</td>\n",
       "      <td>1.3500</td>\n",
       "      <td>0.002015</td>\n",
       "      <td>0.02571</td>\n",
       "      <td>0.1697</td>\n",
       "    </tr>\n",
       "  </tbody>\n",
       "</table>\n",
       "<p>171 rows × 12 columns</p>\n",
       "</div>"
      ],
      "text/plain": [
       "     radius_worst  concavity_worst  fractal_dimension_worst  texture_worst  \\\n",
       "0          13.320         0.195600                  0.07987         26.210   \n",
       "1          23.690         0.321500                  0.06637         38.250   \n",
       "2          13.860         0.235680                  0.07834         23.020   \n",
       "3          18.510         0.402900                  0.09438         33.220   \n",
       "4          19.960         0.216014                  0.05737         24.300   \n",
       "..            ...              ...                      ...            ...   \n",
       "166        17.390         0.589700                  0.09136         23.050   \n",
       "167        15.980         0.077500                  0.06085         25.820   \n",
       "168        14.110         0.170300                  0.07609         23.210   \n",
       "169        16.244         0.344200                  0.08218         27.216   \n",
       "170        13.500         0.005579                  0.06431         23.080   \n",
       "\n",
       "     smoothness_worst  symmetry_worst  perimeter_se  smoothness_se  \\\n",
       "0             0.13580          0.3168     3926.0000       0.009433   \n",
       "1             0.11660          0.2572     5203.0000       0.005769   \n",
       "2             0.11720          0.3297        0.9975       0.002887   \n",
       "3             0.14088          0.2654     4174.0000       0.010520   \n",
       "4             0.12430          0.2567     2363.0000       0.007571   \n",
       "..                ...             ...           ...            ...   \n",
       "166           0.13770          0.3318        3.0700       0.009197   \n",
       "167           0.10450          0.2646     1286.0000       0.003634   \n",
       "168           0.11760          0.2618        1.7400       0.004854   \n",
       "169           0.14010          0.2868     1484.8460       0.004551   \n",
       "170           0.10380          0.2505     1721.0000       0.006383   \n",
       "\n",
       "     texture_se  fractal_dimension_se  symmetry_se  symmetry_mean  \n",
       "0     1693.0000              0.005061      0.03397         0.1993  \n",
       "1     2463.0000              0.002498      0.01898         0.1752  \n",
       "2      905.0000              0.001972      0.01870         0.1735  \n",
       "3     1506.0000              0.004867      0.02120         0.1647  \n",
       "4      828.0000              0.001676      0.01930         0.1683  \n",
       "..          ...                   ...          ...            ...  \n",
       "166      0.9857              0.006355      0.02773         0.2151  \n",
       "167   1065.0000              0.001520      0.01924         0.1515  \n",
       "168   1025.0000              0.002304      0.01386         0.1791  \n",
       "169   1617.0000              0.002299      0.01367         0.1769  \n",
       "170      1.3500              0.002015      0.02571         0.1697  \n",
       "\n",
       "[171 rows x 12 columns]"
      ]
     },
     "execution_count": 119,
     "metadata": {},
     "output_type": "execute_result"
    }
   ],
   "source": [
    "X_test_imputed\n"
   ]
  },
  {
   "cell_type": "code",
   "execution_count": 120,
   "metadata": {
    "collapsed": false
   },
   "outputs": [
    {
     "data": {
      "text/plain": [
       "array([0., 1., 0., 1., 0., 1., 1., 0., 1., 0., 0., 0., 1., 0., 0., 1., 0.,\n",
       "       1., 0., 0., 0., 0., 1., 0., 0., 0., 1., 0., 1., 1., 0., 0., 1., 0.,\n",
       "       0., 1., 0., 0., 0., 0., 1., 0., 1., 1., 0., 1., 0., 1., 1., 0., 0.,\n",
       "       0., 0., 0., 1., 1., 1., 0., 0., 1., 0., 0., 0., 0., 1., 0., 1., 1.,\n",
       "       1., 1., 0., 0., 0., 0., 0., 0., 0., 0., 1., 0., 0., 0., 0., 0., 1.,\n",
       "       0., 0., 0., 0., 0., 0., 1., 1., 0., 0., 1., 0., 0., 0., 0., 0., 0.,\n",
       "       1., 0., 0., 0., 0., 0., 0., 0., 0., 0., 0., 1., 0., 0., 0., 0., 0.,\n",
       "       0., 0., 0., 1., 1., 0., 0., 0., 1., 1., 0., 0., 1., 1., 0., 1., 0.,\n",
       "       0., 0., 1., 0., 1., 1., 0., 0., 0., 0., 0., 0., 0., 1., 0., 0., 0.,\n",
       "       0., 1., 0., 1., 0., 0., 0., 1., 1., 0., 0., 0., 0., 1., 0., 0., 0.,\n",
       "       0.])"
      ]
     },
     "execution_count": 120,
     "metadata": {},
     "output_type": "execute_result"
    }
   ],
   "source": [
    "RF_best.predict(X_test_imputed)"
   ]
  },
  {
   "cell_type": "code",
   "execution_count": 121,
   "metadata": {
    "collapsed": false
   },
   "outputs": [],
   "source": [
    "RF_best.fit(X_train_imputed,y_train)\n",
    "y_pred = RF_best.predict(X_test_imputed)"
   ]
  },
  {
   "cell_type": "code",
   "execution_count": 122,
   "metadata": {
    "collapsed": false
   },
   "outputs": [
    {
     "name": "stdout",
     "output_type": "stream",
     "text": [
      "              precision    recall  f1-score   support\n",
      "\n",
      "         0.0       0.88      0.99      0.93       105\n",
      "         1.0       0.98      0.79      0.87        66\n",
      "\n",
      "    accuracy                           0.91       171\n",
      "   macro avg       0.93      0.89      0.90       171\n",
      "weighted avg       0.92      0.91      0.91       171\n",
      "\n"
     ]
    }
   ],
   "source": [
    "print(classification_report(y_test, y_pred))"
   ]
  },
  {
   "cell_type": "markdown",
   "metadata": {},
   "source": [
    "## Cross validation"
   ]
  },
  {
   "cell_type": "code",
   "execution_count": 125,
   "metadata": {
    "collapsed": false
   },
   "outputs": [
    {
     "name": "stdout",
     "output_type": "stream",
     "text": [
      "( 0.9470588235294117, 0.0411764705882353\n"
     ]
    }
   ],
   "source": [
    "# se efectúa validación cruzada\n",
    "from sklearn import model_selection\n",
    "kFold = model_selection.KFold(n_splits=10)\n",
    "scoring = 'accuracy'\n",
    "puntaje= (model_selection.cross_val_score(RF_best, X_test_imputed, y_test,  scoring = scoring, cv = kFold))\n",
    "print (f\"( {puntaje.mean()}, {puntaje.std()}\")"
   ]
  },
  {
   "cell_type": "markdown",
   "metadata": {
    "collapsed": false
   },
   "source": [
    "*It seems to be with a model with high accuracy and low deviation between the results of the cross validation *"
   ]
  }
 ],
 "metadata": {
  "kernelspec": {
   "display_name": "Python 3.9.7 ('venv': venv)",
   "language": "python",
   "name": "python3"
  },
  "language_info": {
   "codemirror_mode": {
    "name": "ipython",
    "version": 2
   },
   "file_extension": ".py",
   "mimetype": "text/x-python",
   "name": "python",
   "nbconvert_exporter": "python",
   "pygments_lexer": "ipython2",
   "version": "3.9.7"
  },
  "vscode": {
   "interpreter": {
    "hash": "7cf014bf1ad83739b0892d878b204ffdf76c65c02aeeeeeabb39e10b5db6ebe8"
   }
  }
 },
 "nbformat": 4,
 "nbformat_minor": 0
}
