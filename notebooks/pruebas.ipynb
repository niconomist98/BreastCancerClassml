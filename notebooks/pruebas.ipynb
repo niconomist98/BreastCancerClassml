{
 "cells": [
  {
   "cell_type": "code",
   "execution_count": 20,
   "metadata": {
    "pycharm": {
     "name": "#%%\n"
    }
   },
   "outputs": [],
   "source": [
    "import pandas as pd\n",
    "import src.data.preprocessing\n",
    "from sklearn import preprocessing\n",
    "\n",
    "df=pd.read_csv('../data/processed/x_train_model_input.csv')\n",
    "pd.set_option('display.max_rows',50)\n",
    "pd.set_option('display.max_columns', 50)"
   ]
  },
  {
   "cell_type": "code",
   "execution_count": 21,
   "outputs": [
    {
     "data": {
      "text/plain": "Index(['radius_worst', 'concavity_worst', 'fractal_dimension_worst',\n       'texture_worst', 'smoothness_worst', 'symmetry_worst', 'perimeter_se',\n       'smoothness_se', 'area_se', 'texture_se', 'fractal_dimension_se',\n       'symmetry_se', 'symmetry_mean'],\n      dtype='object')"
     },
     "execution_count": 21,
     "metadata": {},
     "output_type": "execute_result"
    }
   ],
   "source": [
    "df.columns"
   ],
   "metadata": {
    "collapsed": false,
    "pycharm": {
     "name": "#%%\n"
    }
   }
  },
  {
   "cell_type": "code",
   "execution_count": 10,
   "outputs": [],
   "source": [
    "df=df[['radius_worst', 'concavity_worst', 'fractal_dimension_worst',\n",
    "       'texture_worst', 'smoothness_worst', 'symmetry_worst', 'perimeter_se',\n",
    "       'smoothness_se', 'area_se', 'texture_se', 'fractal_dimension_se',\n",
    "       'symmetry_se', 'symmetry_mean']]"
   ],
   "metadata": {
    "collapsed": false,
    "pycharm": {
     "name": "#%%\n"
    }
   }
  },
  {
   "cell_type": "code",
   "execution_count": 14,
   "outputs": [
    {
     "data": {
      "text/plain": "     radius_worst  concavity_worst  fractal_dimension_worst  texture_worst  \\\n0       -0.732585        -0.998174                -0.173007      -0.336850   \n1        0.081052        -0.228073                -1.358234       0.385678   \n2       -1.192180        -0.767735                 0.246347      -0.692020   \n3       -0.701799        -1.293352                -0.962423      -0.993219   \n4        1.646752         1.680282                 0.644365       0.860980   \n..            ...              ...                      ...            ...   \n373     -0.404052         0.056543                 0.348610      -0.112953   \n374     -0.299378        -1.175122                -0.750539       0.023544   \n375     -0.468703        -1.218580                -1.355292       1.120394   \n376     -0.492452         0.141030                 1.689808      -1.134242   \n377      0.076654         0.386571                 1.607556       0.465766   \n\n     smoothness_worst  symmetry_worst  perimeter_se  smoothness_se   area_se  \\\n0           -0.142786       -0.632267     -0.804801      -0.406213 -0.863010   \n1           -0.821389       -0.075604      0.538039       1.571162  0.116945   \n2            0.762018       -0.623532      0.417090       0.169329 -0.458931   \n3           -1.458521       -0.230453      0.012377       0.085683 -0.326198   \n4            0.983506        0.831655      1.102465      -0.518113  1.425791   \n..                ...             ...           ...            ...       ...   \n373          0.399154        0.862624     -0.294491      -0.387562 -0.535294   \n374         -0.717713       -0.963009     -0.365975      -0.354925 -0.548400   \n375         -0.411399       -1.074183     -0.428000      -0.315387 -0.529498   \n376         -0.958052       -1.369985      0.313663       1.856042 -0.454731   \n377          1.563146        0.934490      0.981517      -0.395489  0.302603   \n\n     texture_se  fractal_dimension_se  symmetry_se  symmetry_mean  \n0     -1.037918             -0.516866    -0.778067      -1.116610  \n1      0.305804             -0.189768     1.850554       0.173261  \n2      0.737383              0.943987     2.370729      -0.851621  \n3     -1.037988             -0.421232     0.524106      -0.512592  \n4      0.717426             -0.044930    -0.341119       0.079735  \n..          ...                   ...          ...            ...  \n373    0.272126             -0.615134     0.104844      -0.333335  \n374    0.661295             -0.823867    -0.641087      -1.475124  \n375    0.497894             -0.754290    -1.211546      -0.885914  \n376   -0.158304              0.415917    -1.204611      -0.567928  \n377   -1.037542              1.657088     0.622939       1.942449  \n\n[377 rows x 13 columns]",
      "text/html": "<div>\n<style scoped>\n    .dataframe tbody tr th:only-of-type {\n        vertical-align: middle;\n    }\n\n    .dataframe tbody tr th {\n        vertical-align: top;\n    }\n\n    .dataframe thead th {\n        text-align: right;\n    }\n</style>\n<table border=\"1\" class=\"dataframe\">\n  <thead>\n    <tr style=\"text-align: right;\">\n      <th></th>\n      <th>radius_worst</th>\n      <th>concavity_worst</th>\n      <th>fractal_dimension_worst</th>\n      <th>texture_worst</th>\n      <th>smoothness_worst</th>\n      <th>symmetry_worst</th>\n      <th>perimeter_se</th>\n      <th>smoothness_se</th>\n      <th>area_se</th>\n      <th>texture_se</th>\n      <th>fractal_dimension_se</th>\n      <th>symmetry_se</th>\n      <th>symmetry_mean</th>\n    </tr>\n  </thead>\n  <tbody>\n    <tr>\n      <th>0</th>\n      <td>-0.732585</td>\n      <td>-0.998174</td>\n      <td>-0.173007</td>\n      <td>-0.336850</td>\n      <td>-0.142786</td>\n      <td>-0.632267</td>\n      <td>-0.804801</td>\n      <td>-0.406213</td>\n      <td>-0.863010</td>\n      <td>-1.037918</td>\n      <td>-0.516866</td>\n      <td>-0.778067</td>\n      <td>-1.116610</td>\n    </tr>\n    <tr>\n      <th>1</th>\n      <td>0.081052</td>\n      <td>-0.228073</td>\n      <td>-1.358234</td>\n      <td>0.385678</td>\n      <td>-0.821389</td>\n      <td>-0.075604</td>\n      <td>0.538039</td>\n      <td>1.571162</td>\n      <td>0.116945</td>\n      <td>0.305804</td>\n      <td>-0.189768</td>\n      <td>1.850554</td>\n      <td>0.173261</td>\n    </tr>\n    <tr>\n      <th>2</th>\n      <td>-1.192180</td>\n      <td>-0.767735</td>\n      <td>0.246347</td>\n      <td>-0.692020</td>\n      <td>0.762018</td>\n      <td>-0.623532</td>\n      <td>0.417090</td>\n      <td>0.169329</td>\n      <td>-0.458931</td>\n      <td>0.737383</td>\n      <td>0.943987</td>\n      <td>2.370729</td>\n      <td>-0.851621</td>\n    </tr>\n    <tr>\n      <th>3</th>\n      <td>-0.701799</td>\n      <td>-1.293352</td>\n      <td>-0.962423</td>\n      <td>-0.993219</td>\n      <td>-1.458521</td>\n      <td>-0.230453</td>\n      <td>0.012377</td>\n      <td>0.085683</td>\n      <td>-0.326198</td>\n      <td>-1.037988</td>\n      <td>-0.421232</td>\n      <td>0.524106</td>\n      <td>-0.512592</td>\n    </tr>\n    <tr>\n      <th>4</th>\n      <td>1.646752</td>\n      <td>1.680282</td>\n      <td>0.644365</td>\n      <td>0.860980</td>\n      <td>0.983506</td>\n      <td>0.831655</td>\n      <td>1.102465</td>\n      <td>-0.518113</td>\n      <td>1.425791</td>\n      <td>0.717426</td>\n      <td>-0.044930</td>\n      <td>-0.341119</td>\n      <td>0.079735</td>\n    </tr>\n    <tr>\n      <th>...</th>\n      <td>...</td>\n      <td>...</td>\n      <td>...</td>\n      <td>...</td>\n      <td>...</td>\n      <td>...</td>\n      <td>...</td>\n      <td>...</td>\n      <td>...</td>\n      <td>...</td>\n      <td>...</td>\n      <td>...</td>\n      <td>...</td>\n    </tr>\n    <tr>\n      <th>373</th>\n      <td>-0.404052</td>\n      <td>0.056543</td>\n      <td>0.348610</td>\n      <td>-0.112953</td>\n      <td>0.399154</td>\n      <td>0.862624</td>\n      <td>-0.294491</td>\n      <td>-0.387562</td>\n      <td>-0.535294</td>\n      <td>0.272126</td>\n      <td>-0.615134</td>\n      <td>0.104844</td>\n      <td>-0.333335</td>\n    </tr>\n    <tr>\n      <th>374</th>\n      <td>-0.299378</td>\n      <td>-1.175122</td>\n      <td>-0.750539</td>\n      <td>0.023544</td>\n      <td>-0.717713</td>\n      <td>-0.963009</td>\n      <td>-0.365975</td>\n      <td>-0.354925</td>\n      <td>-0.548400</td>\n      <td>0.661295</td>\n      <td>-0.823867</td>\n      <td>-0.641087</td>\n      <td>-1.475124</td>\n    </tr>\n    <tr>\n      <th>375</th>\n      <td>-0.468703</td>\n      <td>-1.218580</td>\n      <td>-1.355292</td>\n      <td>1.120394</td>\n      <td>-0.411399</td>\n      <td>-1.074183</td>\n      <td>-0.428000</td>\n      <td>-0.315387</td>\n      <td>-0.529498</td>\n      <td>0.497894</td>\n      <td>-0.754290</td>\n      <td>-1.211546</td>\n      <td>-0.885914</td>\n    </tr>\n    <tr>\n      <th>376</th>\n      <td>-0.492452</td>\n      <td>0.141030</td>\n      <td>1.689808</td>\n      <td>-1.134242</td>\n      <td>-0.958052</td>\n      <td>-1.369985</td>\n      <td>0.313663</td>\n      <td>1.856042</td>\n      <td>-0.454731</td>\n      <td>-0.158304</td>\n      <td>0.415917</td>\n      <td>-1.204611</td>\n      <td>-0.567928</td>\n    </tr>\n    <tr>\n      <th>377</th>\n      <td>0.076654</td>\n      <td>0.386571</td>\n      <td>1.607556</td>\n      <td>0.465766</td>\n      <td>1.563146</td>\n      <td>0.934490</td>\n      <td>0.981517</td>\n      <td>-0.395489</td>\n      <td>0.302603</td>\n      <td>-1.037542</td>\n      <td>1.657088</td>\n      <td>0.622939</td>\n      <td>1.942449</td>\n    </tr>\n  </tbody>\n</table>\n<p>377 rows × 13 columns</p>\n</div>"
     },
     "execution_count": 14,
     "metadata": {},
     "output_type": "execute_result"
    }
   ],
   "source": [
    "df=df.drop_duplicates( )\n",
    "df"
   ],
   "metadata": {
    "collapsed": false,
    "pycharm": {
     "name": "#%%\n"
    }
   }
  },
  {
   "cell_type": "code",
   "execution_count": null,
   "outputs": [],
   "source": [],
   "metadata": {
    "collapsed": false,
    "pycharm": {
     "name": "#%%\n"
    }
   }
  },
  {
   "cell_type": "code",
   "execution_count": 15,
   "outputs": [],
   "source": [
    "columns_list_ready =['radius_worst', 'concavity_worst', 'fractal_dimension_worst',\n",
    "       'texture_worst', 'smoothness_worst', 'symmetry_worst', 'perimeter_se',\n",
    "       'smoothness_se', 'area_se', 'texture_se', 'fractal_dimension_se',\n",
    "       'symmetry_se', 'symmetry_mean']\n",
    "\n",
    "total_features = ['perimeter_se', 'radius_worst', 'concave points_mean',\n",
    "            'smoothness_mean', 'area_mean', 'concavity_se', 'texture_mean',\n",
    "            'concavity_worst', 'smoothness_se', 'concave points_se', 'area_worst',\n",
    "            'compactness_mean', 'radius_mean', 'area_se', 'concave points_worst',\n",
    "            'fractal_dimension_worst', 'perimeter_worst', 'texture_se',\n",
    "            'fractal_dimension_mean', 'texture_worst', 'smoothness_worst',\n",
    "            'concavity_mean', 'symmetry_mean', 'symmetry_worst',\n",
    "            'fractal_dimension_se', 'perimeter_mean', 'compactness_worst',\n",
    "            'symmetry_se', 'compactness_se', 'radius_se']"
   ],
   "metadata": {
    "collapsed": false,
    "pycharm": {
     "name": "#%%\n"
    }
   }
  },
  {
   "cell_type": "code",
   "execution_count": 19,
   "outputs": [
    {
     "ename": "SyntaxError",
     "evalue": "invalid syntax (1101277888.py, line 1)",
     "output_type": "error",
     "traceback": [
      "\u001B[1;36m  File \u001B[1;32m\"C:\\Users\\NICON\\AppData\\Local\\Temp\\ipykernel_8524\\1101277888.py\"\u001B[1;36m, line \u001B[1;32m1\u001B[0m\n\u001B[1;33m    columns_list_ready.in(total_features)\u001B[0m\n\u001B[1;37m                       ^\u001B[0m\n\u001B[1;31mSyntaxError\u001B[0m\u001B[1;31m:\u001B[0m invalid syntax\n"
     ]
    }
   ],
   "source": [
    "columns_list_ready.in(total_features)"
   ],
   "metadata": {
    "collapsed": false,
    "pycharm": {
     "name": "#%%\n"
    }
   }
  },
  {
   "cell_type": "code",
   "execution_count": 43,
   "outputs": [],
   "source": [
    "data1=df.isna().sum()\n",
    "data2 =df.isna().sum().sum()\n"
   ],
   "metadata": {
    "collapsed": false,
    "pycharm": {
     "name": "#%%\n"
    }
   }
  },
  {
   "cell_type": "code",
   "execution_count": 51,
   "outputs": [
    {
     "data": {
      "text/plain": "569"
     },
     "execution_count": 51,
     "metadata": {},
     "output_type": "execute_result"
    }
   ],
   "source": [
    "df.isna().sum().sum()"
   ],
   "metadata": {
    "collapsed": false,
    "pycharm": {
     "name": "#%%\n"
    }
   }
  },
  {
   "cell_type": "code",
   "execution_count": 54,
   "outputs": [
    {
     "data": {
      "text/plain": "dtype('float64')"
     },
     "execution_count": 54,
     "metadata": {},
     "output_type": "execute_result"
    }
   ],
   "source": [
    "df['radius_mean'].dtype"
   ],
   "metadata": {
    "collapsed": false,
    "pycharm": {
     "name": "#%%\n"
    }
   }
  },
  {
   "cell_type": "code",
   "execution_count": 52,
   "metadata": {
    "pycharm": {
     "name": "#%%\n"
    }
   },
   "outputs": [
    {
     "ename": "SyntaxError",
     "evalue": "invalid syntax (1582930776.py, line 1)",
     "output_type": "error",
     "traceback": [
      "\u001B[1;36m  File \u001B[1;32m\"C:\\Users\\NICON\\AppData\\Local\\Temp\\ipykernel_11656\\1582930776.py\"\u001B[1;36m, line \u001B[1;32m1\u001B[0m\n\u001B[1;33m    df.info8import numpy as np\u001B[0m\n\u001B[1;37m                   ^\u001B[0m\n\u001B[1;31mSyntaxError\u001B[0m\u001B[1;31m:\u001B[0m invalid syntax\n"
     ]
    }
   ],
   "source": [
    "import numpy as np"
   ]
  },
  {
   "cell_type": "markdown",
   "source": [],
   "metadata": {
    "collapsed": false,
    "pycharm": {
     "name": "#%% md\n"
    }
   }
  },
  {
   "cell_type": "code",
   "execution_count": 36,
   "outputs": [],
   "source": [
    "df=df.astype('string')"
   ],
   "metadata": {
    "collapsed": false,
    "pycharm": {
     "name": "#%%\n"
    }
   }
  },
  {
   "cell_type": "code",
   "execution_count": 37,
   "outputs": [],
   "source": [
    "a=pd.Series(df.dtypes=='object')"
   ],
   "metadata": {
    "collapsed": false,
    "pycharm": {
     "name": "#%%\n"
    }
   }
  },
  {
   "cell_type": "code",
   "execution_count": 40,
   "outputs": [],
   "source": [
    " a=pd.Series(df.dtypes=='string').sum()"
   ],
   "metadata": {
    "collapsed": false,
    "pycharm": {
     "name": "#%%\n"
    }
   }
  },
  {
   "cell_type": "code",
   "execution_count": 41,
   "outputs": [
    {
     "data": {
      "text/plain": "33"
     },
     "execution_count": 41,
     "metadata": {},
     "output_type": "execute_result"
    }
   ],
   "source": [
    "a"
   ],
   "metadata": {
    "collapsed": false,
    "pycharm": {
     "name": "#%%\n"
    }
   }
  },
  {
   "cell_type": "code",
   "execution_count": 35,
   "outputs": [
    {
     "data": {
      "text/plain": "33"
     },
     "execution_count": 35,
     "metadata": {},
     "output_type": "execute_result"
    }
   ],
   "source": [
    "b=pd.Series(df.columns).value_counts().sum()\n",
    "b"
   ],
   "metadata": {
    "collapsed": false,
    "pycharm": {
     "name": "#%%\n"
    }
   }
  },
  {
   "cell_type": "code",
   "execution_count": 4,
   "metadata": {
    "pycharm": {
     "name": "#%%\n"
    }
   },
   "outputs": [],
   "source": [
    "df=pd.read_csv('../data/raw/BreastCancerDS.csv',index_col=0)\n",
    "pd.options.display.float_format = '{:.2f}'.format\n"
   ]
  },
  {
   "cell_type": "code",
   "execution_count": 5,
   "outputs": [
    {
     "data": {
      "text/plain": "(19710, 35)"
     },
     "execution_count": 5,
     "metadata": {},
     "output_type": "execute_result"
    }
   ],
   "source": [
    "df.shape"
   ],
   "metadata": {
    "collapsed": false,
    "pycharm": {
     "name": "#%%\n"
    }
   }
  },
  {
   "cell_type": "code",
   "execution_count": 6,
   "outputs": [
    {
     "data": {
      "text/plain": "(3937, 35)"
     },
     "execution_count": 6,
     "metadata": {},
     "output_type": "execute_result"
    }
   ],
   "source": [
    "df=df.drop_duplicates()#\n",
    "df.shape#\n"
   ],
   "metadata": {
    "collapsed": false,
    "pycharm": {
     "name": "#%%\n"
    }
   }
  },
  {
   "cell_type": "code",
   "execution_count": 7,
   "outputs": [
    {
     "data": {
      "text/plain": "(657, 35)"
     },
     "execution_count": 7,
     "metadata": {},
     "output_type": "execute_result"
    }
   ],
   "source": [
    "df = df.drop_duplicates(subset=['index'], keep='first')#\n",
    "df.shape#"
   ],
   "metadata": {
    "collapsed": false,
    "pycharm": {
     "name": "#%%\n"
    }
   }
  },
  {
   "cell_type": "code",
   "execution_count": 8,
   "outputs": [
    {
     "data": {
      "text/plain": "(543, 35)"
     },
     "execution_count": 8,
     "metadata": {},
     "output_type": "execute_result"
    }
   ],
   "source": [
    "df= df[(df['diagnosis'] == 'B') | (df['diagnosis'] == 'M')]\n",
    "df.shape\n",
    "\n",
    "\n"
   ],
   "metadata": {
    "collapsed": false,
    "pycharm": {
     "name": "#%%\n"
    }
   }
  },
  {
   "cell_type": "code",
   "execution_count": 9,
   "outputs": [],
   "source": [
    "label_encoding = preprocessing.LabelEncoder()\n",
    "df['diagnosis'] = label_encoding.fit_transform(df['diagnosis'])\n",
    "df=df.drop_duplicates()"
   ],
   "metadata": {
    "collapsed": false,
    "pycharm": {
     "name": "#%%\n"
    }
   }
  },
  {
   "cell_type": "code",
   "execution_count": 10,
   "outputs": [
    {
     "data": {
      "text/plain": "(543, 35)"
     },
     "execution_count": 10,
     "metadata": {},
     "output_type": "execute_result"
    }
   ],
   "source": [
    "df.shape"
   ],
   "metadata": {
    "collapsed": false,
    "pycharm": {
     "name": "#%%\n"
    }
   }
  },
  {
   "cell_type": "code",
   "execution_count": 11,
   "outputs": [
    {
     "data": {
      "text/plain": "660"
     },
     "execution_count": 11,
     "metadata": {},
     "output_type": "execute_result"
    }
   ],
   "source": [
    "df.isnull().sum().sum()"
   ],
   "metadata": {
    "collapsed": false,
    "pycharm": {
     "name": "#%%\n"
    }
   }
  },
  {
   "cell_type": "markdown",
   "source": [],
   "metadata": {
    "collapsed": false,
    "pycharm": {
     "name": "#%% md\n"
    }
   }
  },
  {
   "cell_type": "code",
   "execution_count": 12,
   "outputs": [
    {
     "data": {
      "text/plain": "0"
     },
     "execution_count": 12,
     "metadata": {},
     "output_type": "execute_result"
    }
   ],
   "source": [
    "df.duplicated().sum()"
   ],
   "metadata": {
    "collapsed": false,
    "pycharm": {
     "name": "#%%\n"
    }
   }
  },
  {
   "cell_type": "code",
   "execution_count": 13,
   "outputs": [
    {
     "data": {
      "text/plain": "      index perimeter_se       radius_worst concave points_mean  \\\n1       279         1.83  999765432456788.0             0.03711   \n2       307       1144.0             9699.0            0.003472   \n4       576       2183.0                 ?              0.02278   \n5       350       2225.0              13.28             0.01162   \n7       120       1103.0              12.82             0.02623   \n...     ...          ...                ...                 ...   \n2275    480       1678.0              13.34             0.01527   \n2368    483       1564.0              14.96              0.0316   \n2462    381       1281.0              12.09             0.02074   \n2544    527       0.7714              13.61             0.02647   \n3206    122       9807.0              26.02              0.2012   \n\n        smoothness_mean area_mean concavity_se       texture_mean  \\\n1               0.09516     587.4      0.01457              15.18   \n2     -88888765432345.0     246.3     0.003681               14.4   \n4               0.09524     409.0      0.01349              18.75   \n5               0.07561     421.0     0.005949              17.07   \n7               0.09373     403.3      0.01514              10.82   \n...                 ...       ...          ...                ...   \n2275            0.09087     455.3      0.01397              18.03   \n2368             0.0995     571.1      0.01698  -88888765432345.0   \n2462            0.07987     372.7      0.01723              14.93   \n2544            0.09003     468.5     0.008732              12.27   \n3206             0.1447    1761.0       0.1278               20.2   \n\n     concavity_worst smoothness_se  concave points_se         area_worst  \\\n1             0.1456      0.004235  999765432456788.0  999765432456788.0   \n2            0.01472      0.007389           0.003472              285.5   \n4                 ?       0.008328            0.00867              506.2   \n5            0.03046      0.006583           0.006296              542.5   \n7             0.2102            ?                  ?               510.5   \n...              ...           ...                ...                ...   \n2275           162.0      0.004911           0.005161              547.4   \n2368          0.1742      0.003245           0.009233              686.5   \n2462          0.1553      0.005296            0.00696              447.1   \n2544          0.1791      0.003681            0.00574              564.9   \n3206          0.5803       0.02333            0.01822             2073.0   \n\n       compactness_mean radius_mean area_se concave points_worst  \\\n1               0.07688       13.85   19.41              0.09993   \n2               0.03116         9.0  9789.0              0.01389   \n4               0.05473       11.52   23.47                   ?    \n5                0.0363       11.66   26.03              0.04262   \n7               0.06685       11.41    10.5              0.08958   \n...                 ...         ...     ...                  ...   \n2275            0.07838       12.16   16.26               0.0569   \n2368  -88888765432345.0        13.7   20.64              0.09077   \n2462            0.07079       11.04   11.68              0.06754   \n2544            0.06307       12.34  8955.0                107.0   \n3206             0.2867       24.25   233.0               0.2248   \n\n                  iuytr fractal_dimension_worst    perimeter_worst  \\\n1                 211.0                 0.06912              98.37   \n2     -88888765432345.0                 0.07804  -88888765432345.0   \n4                    ?                  0.07036                 ?    \n5                0.1671                 0.06825              83.61   \n7                0.1667                 0.08523                 ?    \n...                 ...                     ...                ...   \n2275             0.1464       999765432456788.0              88.83   \n2368             0.1732                  0.0696              95.78   \n2462             0.2003                 0.07287              79.73   \n2544             0.1689                 0.07592              87.22   \n3206             0.2655                 0.08009              180.9   \n\n             texture_se fractal_dimension_mean      texture_worst  \\\n1                0.9195      999765432456788.0  999765432456788.0   \n2     -88888765432345.0                0.06833              20.07   \n4                0.9591                0.05907              22.47   \n5                0.6724                0.05731              19.74   \n7                    ?                 0.06113                 ?    \n...                 ...                    ...                ...   \n2275               1.19      999765432456788.0              27.87   \n2368  -88888765432345.0                0.06088              23.53   \n2462             1031.0                0.06246              20.83   \n2544             0.4957                0.05808              19.27   \n3206               3.12                0.06877              23.99   \n\n       smoothness_worst     concavity_mean        id      symmetry_mean  \\\n1     999765432456788.0  999765432456788.0   8911834              211.0   \n2               0.09861           0.003681     89346  -88888765432345.0   \n4                0.1249                 ?   85759902                 ?    \n5               0.09958           0.008306    899187             0.1671   \n7                0.1548            0.03512    865137             0.1667   \n...                 ...                ...       ...                ...   \n2275             0.1208            0.02916    912193             0.1464   \n2368             0.1199            0.04548    912558             0.1732   \n2462             0.1095            0.03546    901836             0.2003   \n2544             0.1292            0.02958  91813702             0.1689   \n3206             0.1696             0.4268    865423             0.2655   \n\n     symmetry_worst  diagnosis          erty fractal_dimension_se  \\\n1            0.2955          0  908765434567             0.001593   \n2            0.2991          0  908765434567             0.002153   \n4            0.3306          0  908765434567             0.002386   \n5            0.2731          0  908765434567             0.002668   \n7            0.3016          0  908765434567             0.002206   \n...             ...        ...           ...                  ...   \n2275         0.2406          0  908765434567             0.001858   \n2368         0.2518          0  908765434567    -88888765432345.0   \n2462         0.3202          0  908765434567             0.001941   \n2544          311.0          0  908765434567             0.001366   \n3206         0.3222          1  908765434567             0.009875   \n\n         perimeter_mean compactness_worst symmetry_se     compactness_se  \\\n1     999765432456788.0            0.1724     0.01528            0.01541   \n2                 56.36           0.05232     0.02701           0.004883   \n4                 73.34                ?      0.03218           0.008722   \n5                  73.7           0.06476     0.02216           0.006991   \n7                 73.34             239.0     0.01344                 ?    \n...                 ...               ...         ...                ...   \n2275              78.29            0.2279     0.01454  999765432456788.0   \n2368              87.76            0.1346     0.01285  -88888765432345.0   \n2462              70.67            0.1982      0.0188            0.01903   \n2544              78.94            0.2074     0.01129           0.009169   \n3206              166.2            0.4244     0.04547            0.09806   \n\n              radius_se  \n1     999765432456788.0  \n2                0.1746  \n4                0.3249  \n5                0.3534  \n7                    ?   \n...                 ...  \n2275             0.2194  \n2368             0.2431  \n2462             0.1642  \n2544             0.1166  \n3206             1509.0  \n\n[543 rows x 35 columns]",
      "text/html": "<div>\n<style scoped>\n    .dataframe tbody tr th:only-of-type {\n        vertical-align: middle;\n    }\n\n    .dataframe tbody tr th {\n        vertical-align: top;\n    }\n\n    .dataframe thead th {\n        text-align: right;\n    }\n</style>\n<table border=\"1\" class=\"dataframe\">\n  <thead>\n    <tr style=\"text-align: right;\">\n      <th></th>\n      <th>index</th>\n      <th>perimeter_se</th>\n      <th>radius_worst</th>\n      <th>concave points_mean</th>\n      <th>smoothness_mean</th>\n      <th>area_mean</th>\n      <th>concavity_se</th>\n      <th>texture_mean</th>\n      <th>concavity_worst</th>\n      <th>smoothness_se</th>\n      <th>concave points_se</th>\n      <th>area_worst</th>\n      <th>compactness_mean</th>\n      <th>radius_mean</th>\n      <th>area_se</th>\n      <th>concave points_worst</th>\n      <th>iuytr</th>\n      <th>fractal_dimension_worst</th>\n      <th>perimeter_worst</th>\n      <th>texture_se</th>\n      <th>fractal_dimension_mean</th>\n      <th>texture_worst</th>\n      <th>smoothness_worst</th>\n      <th>concavity_mean</th>\n      <th>id</th>\n      <th>symmetry_mean</th>\n      <th>symmetry_worst</th>\n      <th>diagnosis</th>\n      <th>erty</th>\n      <th>fractal_dimension_se</th>\n      <th>perimeter_mean</th>\n      <th>compactness_worst</th>\n      <th>symmetry_se</th>\n      <th>compactness_se</th>\n      <th>radius_se</th>\n    </tr>\n  </thead>\n  <tbody>\n    <tr>\n      <th>1</th>\n      <td>279</td>\n      <td>1.83</td>\n      <td>999765432456788.0</td>\n      <td>0.03711</td>\n      <td>0.09516</td>\n      <td>587.4</td>\n      <td>0.01457</td>\n      <td>15.18</td>\n      <td>0.1456</td>\n      <td>0.004235</td>\n      <td>999765432456788.0</td>\n      <td>999765432456788.0</td>\n      <td>0.07688</td>\n      <td>13.85</td>\n      <td>19.41</td>\n      <td>0.09993</td>\n      <td>211.0</td>\n      <td>0.06912</td>\n      <td>98.37</td>\n      <td>0.9195</td>\n      <td>999765432456788.0</td>\n      <td>999765432456788.0</td>\n      <td>999765432456788.0</td>\n      <td>999765432456788.0</td>\n      <td>8911834</td>\n      <td>211.0</td>\n      <td>0.2955</td>\n      <td>0</td>\n      <td>908765434567</td>\n      <td>0.001593</td>\n      <td>999765432456788.0</td>\n      <td>0.1724</td>\n      <td>0.01528</td>\n      <td>0.01541</td>\n      <td>999765432456788.0</td>\n    </tr>\n    <tr>\n      <th>2</th>\n      <td>307</td>\n      <td>1144.0</td>\n      <td>9699.0</td>\n      <td>0.003472</td>\n      <td>-88888765432345.0</td>\n      <td>246.3</td>\n      <td>0.003681</td>\n      <td>14.4</td>\n      <td>0.01472</td>\n      <td>0.007389</td>\n      <td>0.003472</td>\n      <td>285.5</td>\n      <td>0.03116</td>\n      <td>9.0</td>\n      <td>9789.0</td>\n      <td>0.01389</td>\n      <td>-88888765432345.0</td>\n      <td>0.07804</td>\n      <td>-88888765432345.0</td>\n      <td>-88888765432345.0</td>\n      <td>0.06833</td>\n      <td>20.07</td>\n      <td>0.09861</td>\n      <td>0.003681</td>\n      <td>89346</td>\n      <td>-88888765432345.0</td>\n      <td>0.2991</td>\n      <td>0</td>\n      <td>908765434567</td>\n      <td>0.002153</td>\n      <td>56.36</td>\n      <td>0.05232</td>\n      <td>0.02701</td>\n      <td>0.004883</td>\n      <td>0.1746</td>\n    </tr>\n    <tr>\n      <th>4</th>\n      <td>576</td>\n      <td>2183.0</td>\n      <td>?</td>\n      <td>0.02278</td>\n      <td>0.09524</td>\n      <td>409.0</td>\n      <td>0.01349</td>\n      <td>18.75</td>\n      <td>?</td>\n      <td>0.008328</td>\n      <td>0.00867</td>\n      <td>506.2</td>\n      <td>0.05473</td>\n      <td>11.52</td>\n      <td>23.47</td>\n      <td>?</td>\n      <td>?</td>\n      <td>0.07036</td>\n      <td>?</td>\n      <td>0.9591</td>\n      <td>0.05907</td>\n      <td>22.47</td>\n      <td>0.1249</td>\n      <td>?</td>\n      <td>85759902</td>\n      <td>?</td>\n      <td>0.3306</td>\n      <td>0</td>\n      <td>908765434567</td>\n      <td>0.002386</td>\n      <td>73.34</td>\n      <td>?</td>\n      <td>0.03218</td>\n      <td>0.008722</td>\n      <td>0.3249</td>\n    </tr>\n    <tr>\n      <th>5</th>\n      <td>350</td>\n      <td>2225.0</td>\n      <td>13.28</td>\n      <td>0.01162</td>\n      <td>0.07561</td>\n      <td>421.0</td>\n      <td>0.005949</td>\n      <td>17.07</td>\n      <td>0.03046</td>\n      <td>0.006583</td>\n      <td>0.006296</td>\n      <td>542.5</td>\n      <td>0.0363</td>\n      <td>11.66</td>\n      <td>26.03</td>\n      <td>0.04262</td>\n      <td>0.1671</td>\n      <td>0.06825</td>\n      <td>83.61</td>\n      <td>0.6724</td>\n      <td>0.05731</td>\n      <td>19.74</td>\n      <td>0.09958</td>\n      <td>0.008306</td>\n      <td>899187</td>\n      <td>0.1671</td>\n      <td>0.2731</td>\n      <td>0</td>\n      <td>908765434567</td>\n      <td>0.002668</td>\n      <td>73.7</td>\n      <td>0.06476</td>\n      <td>0.02216</td>\n      <td>0.006991</td>\n      <td>0.3534</td>\n    </tr>\n    <tr>\n      <th>7</th>\n      <td>120</td>\n      <td>1103.0</td>\n      <td>12.82</td>\n      <td>0.02623</td>\n      <td>0.09373</td>\n      <td>403.3</td>\n      <td>0.01514</td>\n      <td>10.82</td>\n      <td>0.2102</td>\n      <td>?</td>\n      <td>?</td>\n      <td>510.5</td>\n      <td>0.06685</td>\n      <td>11.41</td>\n      <td>10.5</td>\n      <td>0.08958</td>\n      <td>0.1667</td>\n      <td>0.08523</td>\n      <td>?</td>\n      <td>?</td>\n      <td>0.06113</td>\n      <td>?</td>\n      <td>0.1548</td>\n      <td>0.03512</td>\n      <td>865137</td>\n      <td>0.1667</td>\n      <td>0.3016</td>\n      <td>0</td>\n      <td>908765434567</td>\n      <td>0.002206</td>\n      <td>73.34</td>\n      <td>239.0</td>\n      <td>0.01344</td>\n      <td>?</td>\n      <td>?</td>\n    </tr>\n    <tr>\n      <th>...</th>\n      <td>...</td>\n      <td>...</td>\n      <td>...</td>\n      <td>...</td>\n      <td>...</td>\n      <td>...</td>\n      <td>...</td>\n      <td>...</td>\n      <td>...</td>\n      <td>...</td>\n      <td>...</td>\n      <td>...</td>\n      <td>...</td>\n      <td>...</td>\n      <td>...</td>\n      <td>...</td>\n      <td>...</td>\n      <td>...</td>\n      <td>...</td>\n      <td>...</td>\n      <td>...</td>\n      <td>...</td>\n      <td>...</td>\n      <td>...</td>\n      <td>...</td>\n      <td>...</td>\n      <td>...</td>\n      <td>...</td>\n      <td>...</td>\n      <td>...</td>\n      <td>...</td>\n      <td>...</td>\n      <td>...</td>\n      <td>...</td>\n      <td>...</td>\n    </tr>\n    <tr>\n      <th>2275</th>\n      <td>480</td>\n      <td>1678.0</td>\n      <td>13.34</td>\n      <td>0.01527</td>\n      <td>0.09087</td>\n      <td>455.3</td>\n      <td>0.01397</td>\n      <td>18.03</td>\n      <td>162.0</td>\n      <td>0.004911</td>\n      <td>0.005161</td>\n      <td>547.4</td>\n      <td>0.07838</td>\n      <td>12.16</td>\n      <td>16.26</td>\n      <td>0.0569</td>\n      <td>0.1464</td>\n      <td>999765432456788.0</td>\n      <td>88.83</td>\n      <td>1.19</td>\n      <td>999765432456788.0</td>\n      <td>27.87</td>\n      <td>0.1208</td>\n      <td>0.02916</td>\n      <td>912193</td>\n      <td>0.1464</td>\n      <td>0.2406</td>\n      <td>0</td>\n      <td>908765434567</td>\n      <td>0.001858</td>\n      <td>78.29</td>\n      <td>0.2279</td>\n      <td>0.01454</td>\n      <td>999765432456788.0</td>\n      <td>0.2194</td>\n    </tr>\n    <tr>\n      <th>2368</th>\n      <td>483</td>\n      <td>1564.0</td>\n      <td>14.96</td>\n      <td>0.0316</td>\n      <td>0.0995</td>\n      <td>571.1</td>\n      <td>0.01698</td>\n      <td>-88888765432345.0</td>\n      <td>0.1742</td>\n      <td>0.003245</td>\n      <td>0.009233</td>\n      <td>686.5</td>\n      <td>-88888765432345.0</td>\n      <td>13.7</td>\n      <td>20.64</td>\n      <td>0.09077</td>\n      <td>0.1732</td>\n      <td>0.0696</td>\n      <td>95.78</td>\n      <td>-88888765432345.0</td>\n      <td>0.06088</td>\n      <td>23.53</td>\n      <td>0.1199</td>\n      <td>0.04548</td>\n      <td>912558</td>\n      <td>0.1732</td>\n      <td>0.2518</td>\n      <td>0</td>\n      <td>908765434567</td>\n      <td>-88888765432345.0</td>\n      <td>87.76</td>\n      <td>0.1346</td>\n      <td>0.01285</td>\n      <td>-88888765432345.0</td>\n      <td>0.2431</td>\n    </tr>\n    <tr>\n      <th>2462</th>\n      <td>381</td>\n      <td>1281.0</td>\n      <td>12.09</td>\n      <td>0.02074</td>\n      <td>0.07987</td>\n      <td>372.7</td>\n      <td>0.01723</td>\n      <td>14.93</td>\n      <td>0.1553</td>\n      <td>0.005296</td>\n      <td>0.00696</td>\n      <td>447.1</td>\n      <td>0.07079</td>\n      <td>11.04</td>\n      <td>11.68</td>\n      <td>0.06754</td>\n      <td>0.2003</td>\n      <td>0.07287</td>\n      <td>79.73</td>\n      <td>1031.0</td>\n      <td>0.06246</td>\n      <td>20.83</td>\n      <td>0.1095</td>\n      <td>0.03546</td>\n      <td>901836</td>\n      <td>0.2003</td>\n      <td>0.3202</td>\n      <td>0</td>\n      <td>908765434567</td>\n      <td>0.001941</td>\n      <td>70.67</td>\n      <td>0.1982</td>\n      <td>0.0188</td>\n      <td>0.01903</td>\n      <td>0.1642</td>\n    </tr>\n    <tr>\n      <th>2544</th>\n      <td>527</td>\n      <td>0.7714</td>\n      <td>13.61</td>\n      <td>0.02647</td>\n      <td>0.09003</td>\n      <td>468.5</td>\n      <td>0.008732</td>\n      <td>12.27</td>\n      <td>0.1791</td>\n      <td>0.003681</td>\n      <td>0.00574</td>\n      <td>564.9</td>\n      <td>0.06307</td>\n      <td>12.34</td>\n      <td>8955.0</td>\n      <td>107.0</td>\n      <td>0.1689</td>\n      <td>0.07592</td>\n      <td>87.22</td>\n      <td>0.4957</td>\n      <td>0.05808</td>\n      <td>19.27</td>\n      <td>0.1292</td>\n      <td>0.02958</td>\n      <td>91813702</td>\n      <td>0.1689</td>\n      <td>311.0</td>\n      <td>0</td>\n      <td>908765434567</td>\n      <td>0.001366</td>\n      <td>78.94</td>\n      <td>0.2074</td>\n      <td>0.01129</td>\n      <td>0.009169</td>\n      <td>0.1166</td>\n    </tr>\n    <tr>\n      <th>3206</th>\n      <td>122</td>\n      <td>9807.0</td>\n      <td>26.02</td>\n      <td>0.2012</td>\n      <td>0.1447</td>\n      <td>1761.0</td>\n      <td>0.1278</td>\n      <td>20.2</td>\n      <td>0.5803</td>\n      <td>0.02333</td>\n      <td>0.01822</td>\n      <td>2073.0</td>\n      <td>0.2867</td>\n      <td>24.25</td>\n      <td>233.0</td>\n      <td>0.2248</td>\n      <td>0.2655</td>\n      <td>0.08009</td>\n      <td>180.9</td>\n      <td>3.12</td>\n      <td>0.06877</td>\n      <td>23.99</td>\n      <td>0.1696</td>\n      <td>0.4268</td>\n      <td>865423</td>\n      <td>0.2655</td>\n      <td>0.3222</td>\n      <td>1</td>\n      <td>908765434567</td>\n      <td>0.009875</td>\n      <td>166.2</td>\n      <td>0.4244</td>\n      <td>0.04547</td>\n      <td>0.09806</td>\n      <td>1509.0</td>\n    </tr>\n  </tbody>\n</table>\n<p>543 rows × 35 columns</p>\n</div>"
     },
     "execution_count": 13,
     "metadata": {},
     "output_type": "execute_result"
    }
   ],
   "source": [
    "df"
   ],
   "metadata": {
    "collapsed": false,
    "pycharm": {
     "name": "#%%\n"
    }
   }
  },
  {
   "cell_type": "code",
   "execution_count": 14,
   "outputs": [
    {
     "data": {
      "text/plain": "index                       int64\nperimeter_se               object\nradius_worst               object\nconcave points_mean        object\nsmoothness_mean            object\narea_mean                  object\nconcavity_se               object\ntexture_mean               object\nconcavity_worst            object\nsmoothness_se              object\nconcave points_se          object\narea_worst                 object\ncompactness_mean           object\nradius_mean                object\narea_se                    object\nconcave points_worst       object\niuytr                      object\nfractal_dimension_worst    object\nperimeter_worst            object\ntexture_se                 object\nfractal_dimension_mean     object\ntexture_worst              object\nsmoothness_worst           object\nconcavity_mean             object\nid                         object\nsymmetry_mean              object\nsymmetry_worst             object\ndiagnosis                   int32\nerty                        int64\nfractal_dimension_se       object\nperimeter_mean             object\ncompactness_worst          object\nsymmetry_se                object\ncompactness_se             object\nradius_se                  object\ndtype: object"
     },
     "execution_count": 14,
     "metadata": {},
     "output_type": "execute_result"
    }
   ],
   "source": [
    "df.dtypes\n"
   ],
   "metadata": {
    "collapsed": false,
    "pycharm": {
     "name": "#%%\n"
    }
   }
  },
  {
   "cell_type": "code",
   "execution_count": 16,
   "outputs": [
    {
     "data": {
      "text/plain": "'int64'"
     },
     "execution_count": 16,
     "metadata": {},
     "output_type": "execute_result"
    }
   ],
   "source": [
    "str(df['index'].dtypes)"
   ],
   "metadata": {
    "collapsed": false,
    "pycharm": {
     "name": "#%%\n"
    }
   }
  },
  {
   "cell_type": "code",
   "execution_count": 19,
   "outputs": [],
   "source": [
    "strda=df.astype(str)"
   ],
   "metadata": {
    "collapsed": false,
    "pycharm": {
     "name": "#%%\n"
    }
   }
  },
  {
   "cell_type": "code",
   "execution_count": 20,
   "outputs": [
    {
     "data": {
      "text/plain": "'object'"
     },
     "execution_count": 20,
     "metadata": {},
     "output_type": "execute_result"
    }
   ],
   "source": [
    "str(strda['index'].dtypes)"
   ],
   "metadata": {
    "collapsed": false,
    "pycharm": {
     "name": "#%%\n"
    }
   }
  },
  {
   "cell_type": "code",
   "execution_count": 22,
   "outputs": [],
   "source": [
    "x_train=pd.read_csv(\"../data/interim/x_train.csv\")"
   ],
   "metadata": {
    "collapsed": false,
    "pycharm": {
     "name": "#%%\n"
    }
   }
  },
  {
   "cell_type": "code",
   "execution_count": 27,
   "outputs": [
    {
     "data": {
      "text/plain": "34"
     },
     "execution_count": 27,
     "metadata": {},
     "output_type": "execute_result"
    }
   ],
   "source": [
    "len(x_train.columns)"
   ],
   "metadata": {
    "collapsed": false,
    "pycharm": {
     "name": "#%%\n"
    }
   }
  },
  {
   "cell_type": "code",
   "execution_count": 28,
   "outputs": [
    {
     "data": {
      "text/plain": "Index(['index', 'perimeter_se', 'radius_worst', 'concave points_mean',\n       'smoothness_mean', 'area_mean', 'concavity_se', 'texture_mean',\n       'concavity_worst', 'smoothness_se', 'concave points_se', 'area_worst',\n       'compactness_mean', 'radius_mean', 'area_se', 'concave points_worst',\n       'iuytr', 'fractal_dimension_worst', 'perimeter_worst', 'texture_se',\n       'fractal_dimension_mean', 'texture_worst', 'smoothness_worst',\n       'concavity_mean', 'id', 'symmetry_mean', 'symmetry_worst', 'erty',\n       'fractal_dimension_se', 'perimeter_mean', 'compactness_worst',\n       'symmetry_se', 'compactness_se', 'radius_se'],\n      dtype='object')"
     },
     "execution_count": 28,
     "metadata": {},
     "output_type": "execute_result"
    }
   ],
   "source": [
    "x_train.columns"
   ],
   "metadata": {
    "collapsed": false,
    "pycharm": {
     "name": "#%%\n"
    }
   }
  },
  {
   "cell_type": "code",
   "execution_count": 30,
   "outputs": [
    {
     "data": {
      "text/plain": "Index(['index', 'perimeter_se', 'radius_worst', 'concave points_mean',\n       'smoothness_mean', 'area_mean', 'concavity_se', 'texture_mean',\n       'concavity_worst', 'smoothness_se', 'concave points_se', 'area_worst',\n       'compactness_mean', 'radius_mean', 'area_se', 'concave points_worst',\n       'iuytr', 'fractal_dimension_worst', 'perimeter_worst', 'texture_se',\n       'fractal_dimension_mean', 'texture_worst', 'smoothness_worst',\n       'concavity_mean', 'id', 'symmetry_mean', 'symmetry_worst', 'erty',\n       'fractal_dimension_se', 'perimeter_mean', 'compactness_worst',\n       'symmetry_se', 'compactness_se', 'radius_se'],\n      dtype='object')"
     },
     "execution_count": 30,
     "metadata": {},
     "output_type": "execute_result"
    }
   ],
   "source": [
    "x_train.columns"
   ],
   "metadata": {
    "collapsed": false,
    "pycharm": {
     "name": "#%%\n"
    }
   }
  },
  {
   "cell_type": "code",
   "execution_count": 56,
   "outputs": [],
   "source": [
    "data=pd.read_csv('../data/processed/x_train_model_input.csv')"
   ],
   "metadata": {
    "collapsed": false,
    "pycharm": {
     "name": "#%%\n"
    }
   }
  },
  {
   "cell_type": "code",
   "execution_count": 57,
   "outputs": [
    {
     "data": {
      "text/plain": "     perimeter_se  radius_worst  concave points_mean  smoothness_mean  \\\n0       -0.804801     -0.732585            -0.767892        -0.924895   \n1        0.538039      0.081052             0.173393        -0.856515   \n2        0.417090     -1.192180            -0.819094         0.716375   \n3        0.012377     -0.701799            -0.989582        -1.527530   \n4        1.102465      1.646752             1.993414         0.610930   \n..            ...           ...                  ...              ...   \n373      1.046953      1.459836             1.031648        -0.028930   \n374     -0.365975     -0.299378            -0.733296        -0.583317   \n375     -0.428000     -0.468703            -0.823522        -0.882078   \n376      0.155035     -1.024175            -0.548139        -0.885273   \n377      0.981517      0.076654             0.123022         1.291531   \n\n     area_mean  concavity_se  texture_mean  concavity_worst  smoothness_se  \\\n0    -0.441463     -1.017200     -1.580140        -0.998174      -0.406213   \n1     0.624144      1.292986      1.181109        -0.228073       1.571162   \n2    -1.201668     -0.044889     -0.533279        -0.767735       0.884186   \n3    -0.716762     -1.266784     -0.513574        -1.293352       0.085683   \n4     2.048833      0.836305     -0.082513         1.680282      -0.518113   \n..         ...           ...           ...              ...            ...   \n373   2.157826     -0.343828     -0.469236         0.056543      -0.387562   \n374  -0.076523     -1.306708     -0.725409        -1.175122      -0.354925   \n375  -0.243645     -1.282179      1.471767        -1.218580      -0.046453   \n376  -0.824272      1.171664     -0.900296         0.141030       1.856042   \n377  -0.259957      0.807008     -0.112072         0.626410      -0.395489   \n\n     concave points_se  area_worst  compactness_mean  radius_mean   area_se  \\\n0            -0.987762   -0.626228         -0.988999    -0.748447 -0.863010   \n1             1.752549    0.236087          0.012493     0.460219  0.116945   \n2            -0.193199   -1.042207         -0.326157    -1.083939 -0.458931   \n3            -0.983144   -0.601892         -1.326602    -0.876011 -0.326198   \n4             0.114024    2.402537          0.694782     1.592984  1.425791   \n..                 ...         ...               ...          ...       ...   \n373           0.156192    1.490696         -0.293047     2.329027  1.465527   \n374          -1.034147   -0.220787         -0.936399    -0.171221 -0.548400   \n375          -0.975112   -0.386125         -1.024205    -0.448672 -0.529498   \n376           1.862988   -0.833967          0.247202    -1.000385 -0.454731   \n377          -0.151031    0.266695          1.089637    -0.818607  0.302603   \n\n     concave points_worst  fractal_dimension_worst  perimeter_worst  \\\n0               -0.659691                -0.173007        -0.690301   \n1               -0.008273                -1.358234         0.300999   \n2               -0.924169                 0.246347        -1.130563   \n3               -1.091833                -0.962423        -0.706989   \n4                1.315522                 0.644365         1.788659   \n..                    ...                      ...              ...   \n373              0.566602                -0.391660         1.449089   \n374             -0.889447                -0.750539        -0.240808   \n375             -0.832360                -1.355292        -0.442476   \n376             -0.425181                 1.689808        -0.844748   \n377              0.659568                 1.544137        -0.056324   \n\n     texture_se  fractal_dimension_mean  texture_worst  smoothness_worst  \\\n0     -1.037918               -0.520601      -0.304467         -0.142786   \n1      0.305804               -1.475211       0.385678         -0.821389   \n2      0.737383                1.422173      -0.692020          0.762018   \n3     -1.037988               -0.815876      -0.993219         -1.458521   \n4      0.717426               -0.171640       0.860980          0.983506   \n..          ...                     ...            ...               ...   \n373    0.272126               -1.074912       0.257190         -0.060788   \n374    0.661295               -0.560866       0.023544         -0.717713   \n375    0.497894               -0.866878       1.120394         -0.411399   \n376    0.454994                1.735903      -1.134242         -0.958052   \n377   -1.037542                2.653604       0.465766          1.563146   \n\n     concavity_mean  symmetry_mean  symmetry_worst  fractal_dimension_se  \\\n0         -0.900141      -0.708216       -0.620753             -0.516866   \n1          0.288558       0.173261       -0.075604             -0.189768   \n2         -0.547680      -0.851621       -0.623532              0.943987   \n3         -1.070463      -0.512592       -0.230453             -0.421232   \n4          1.315202       0.079735        0.831655             -0.044930   \n..              ...            ...             ...                   ...   \n373        0.274173      -0.333335       -0.045031             -0.495106   \n374       -0.970275      -1.475124       -0.963009             -0.823867   \n375       -1.014445      -0.715230       -1.074183             -1.023591   \n376       -0.226137      -0.784595       -1.369985              1.179192   \n377        0.623113       1.942449        1.715090              1.657088   \n\n     perimeter_mean  compactness_worst  symmetry_se  compactness_se  radius_se  \n0         -0.646853          -0.878361    -0.778067       -1.027980  -0.941024  \n1          0.554492          -0.357030     1.850554        0.745471   0.154466  \n2         -1.288227          -0.476816     2.370729        0.585232  -0.475775  \n3         -0.787294          -1.318630     0.524106       -1.259088  -0.092775  \n4          1.665490           0.999786    -0.341119        0.503461   0.960105  \n..              ...                ...          ...             ...        ...  \n373        2.218305          -0.580028    -1.048558       -0.918042   0.879541  \n374       -0.124452          -1.047116    -0.641087       -1.180785  -0.583788  \n375       -0.388783          -0.983080    -1.211546       -0.775876  -0.661478  \n376       -0.801606           0.309701    -1.204611        1.450358  -0.206238  \n377       -0.156386           2.544192     0.622939        0.983352   0.546881  \n\n[378 rows x 30 columns]",
      "text/html": "<div>\n<style scoped>\n    .dataframe tbody tr th:only-of-type {\n        vertical-align: middle;\n    }\n\n    .dataframe tbody tr th {\n        vertical-align: top;\n    }\n\n    .dataframe thead th {\n        text-align: right;\n    }\n</style>\n<table border=\"1\" class=\"dataframe\">\n  <thead>\n    <tr style=\"text-align: right;\">\n      <th></th>\n      <th>perimeter_se</th>\n      <th>radius_worst</th>\n      <th>concave points_mean</th>\n      <th>smoothness_mean</th>\n      <th>area_mean</th>\n      <th>concavity_se</th>\n      <th>texture_mean</th>\n      <th>concavity_worst</th>\n      <th>smoothness_se</th>\n      <th>concave points_se</th>\n      <th>area_worst</th>\n      <th>compactness_mean</th>\n      <th>radius_mean</th>\n      <th>area_se</th>\n      <th>concave points_worst</th>\n      <th>fractal_dimension_worst</th>\n      <th>perimeter_worst</th>\n      <th>texture_se</th>\n      <th>fractal_dimension_mean</th>\n      <th>texture_worst</th>\n      <th>smoothness_worst</th>\n      <th>concavity_mean</th>\n      <th>symmetry_mean</th>\n      <th>symmetry_worst</th>\n      <th>fractal_dimension_se</th>\n      <th>perimeter_mean</th>\n      <th>compactness_worst</th>\n      <th>symmetry_se</th>\n      <th>compactness_se</th>\n      <th>radius_se</th>\n    </tr>\n  </thead>\n  <tbody>\n    <tr>\n      <th>0</th>\n      <td>-0.804801</td>\n      <td>-0.732585</td>\n      <td>-0.767892</td>\n      <td>-0.924895</td>\n      <td>-0.441463</td>\n      <td>-1.017200</td>\n      <td>-1.580140</td>\n      <td>-0.998174</td>\n      <td>-0.406213</td>\n      <td>-0.987762</td>\n      <td>-0.626228</td>\n      <td>-0.988999</td>\n      <td>-0.748447</td>\n      <td>-0.863010</td>\n      <td>-0.659691</td>\n      <td>-0.173007</td>\n      <td>-0.690301</td>\n      <td>-1.037918</td>\n      <td>-0.520601</td>\n      <td>-0.304467</td>\n      <td>-0.142786</td>\n      <td>-0.900141</td>\n      <td>-0.708216</td>\n      <td>-0.620753</td>\n      <td>-0.516866</td>\n      <td>-0.646853</td>\n      <td>-0.878361</td>\n      <td>-0.778067</td>\n      <td>-1.027980</td>\n      <td>-0.941024</td>\n    </tr>\n    <tr>\n      <th>1</th>\n      <td>0.538039</td>\n      <td>0.081052</td>\n      <td>0.173393</td>\n      <td>-0.856515</td>\n      <td>0.624144</td>\n      <td>1.292986</td>\n      <td>1.181109</td>\n      <td>-0.228073</td>\n      <td>1.571162</td>\n      <td>1.752549</td>\n      <td>0.236087</td>\n      <td>0.012493</td>\n      <td>0.460219</td>\n      <td>0.116945</td>\n      <td>-0.008273</td>\n      <td>-1.358234</td>\n      <td>0.300999</td>\n      <td>0.305804</td>\n      <td>-1.475211</td>\n      <td>0.385678</td>\n      <td>-0.821389</td>\n      <td>0.288558</td>\n      <td>0.173261</td>\n      <td>-0.075604</td>\n      <td>-0.189768</td>\n      <td>0.554492</td>\n      <td>-0.357030</td>\n      <td>1.850554</td>\n      <td>0.745471</td>\n      <td>0.154466</td>\n    </tr>\n    <tr>\n      <th>2</th>\n      <td>0.417090</td>\n      <td>-1.192180</td>\n      <td>-0.819094</td>\n      <td>0.716375</td>\n      <td>-1.201668</td>\n      <td>-0.044889</td>\n      <td>-0.533279</td>\n      <td>-0.767735</td>\n      <td>0.884186</td>\n      <td>-0.193199</td>\n      <td>-1.042207</td>\n      <td>-0.326157</td>\n      <td>-1.083939</td>\n      <td>-0.458931</td>\n      <td>-0.924169</td>\n      <td>0.246347</td>\n      <td>-1.130563</td>\n      <td>0.737383</td>\n      <td>1.422173</td>\n      <td>-0.692020</td>\n      <td>0.762018</td>\n      <td>-0.547680</td>\n      <td>-0.851621</td>\n      <td>-0.623532</td>\n      <td>0.943987</td>\n      <td>-1.288227</td>\n      <td>-0.476816</td>\n      <td>2.370729</td>\n      <td>0.585232</td>\n      <td>-0.475775</td>\n    </tr>\n    <tr>\n      <th>3</th>\n      <td>0.012377</td>\n      <td>-0.701799</td>\n      <td>-0.989582</td>\n      <td>-1.527530</td>\n      <td>-0.716762</td>\n      <td>-1.266784</td>\n      <td>-0.513574</td>\n      <td>-1.293352</td>\n      <td>0.085683</td>\n      <td>-0.983144</td>\n      <td>-0.601892</td>\n      <td>-1.326602</td>\n      <td>-0.876011</td>\n      <td>-0.326198</td>\n      <td>-1.091833</td>\n      <td>-0.962423</td>\n      <td>-0.706989</td>\n      <td>-1.037988</td>\n      <td>-0.815876</td>\n      <td>-0.993219</td>\n      <td>-1.458521</td>\n      <td>-1.070463</td>\n      <td>-0.512592</td>\n      <td>-0.230453</td>\n      <td>-0.421232</td>\n      <td>-0.787294</td>\n      <td>-1.318630</td>\n      <td>0.524106</td>\n      <td>-1.259088</td>\n      <td>-0.092775</td>\n    </tr>\n    <tr>\n      <th>4</th>\n      <td>1.102465</td>\n      <td>1.646752</td>\n      <td>1.993414</td>\n      <td>0.610930</td>\n      <td>2.048833</td>\n      <td>0.836305</td>\n      <td>-0.082513</td>\n      <td>1.680282</td>\n      <td>-0.518113</td>\n      <td>0.114024</td>\n      <td>2.402537</td>\n      <td>0.694782</td>\n      <td>1.592984</td>\n      <td>1.425791</td>\n      <td>1.315522</td>\n      <td>0.644365</td>\n      <td>1.788659</td>\n      <td>0.717426</td>\n      <td>-0.171640</td>\n      <td>0.860980</td>\n      <td>0.983506</td>\n      <td>1.315202</td>\n      <td>0.079735</td>\n      <td>0.831655</td>\n      <td>-0.044930</td>\n      <td>1.665490</td>\n      <td>0.999786</td>\n      <td>-0.341119</td>\n      <td>0.503461</td>\n      <td>0.960105</td>\n    </tr>\n    <tr>\n      <th>...</th>\n      <td>...</td>\n      <td>...</td>\n      <td>...</td>\n      <td>...</td>\n      <td>...</td>\n      <td>...</td>\n      <td>...</td>\n      <td>...</td>\n      <td>...</td>\n      <td>...</td>\n      <td>...</td>\n      <td>...</td>\n      <td>...</td>\n      <td>...</td>\n      <td>...</td>\n      <td>...</td>\n      <td>...</td>\n      <td>...</td>\n      <td>...</td>\n      <td>...</td>\n      <td>...</td>\n      <td>...</td>\n      <td>...</td>\n      <td>...</td>\n      <td>...</td>\n      <td>...</td>\n      <td>...</td>\n      <td>...</td>\n      <td>...</td>\n      <td>...</td>\n    </tr>\n    <tr>\n      <th>373</th>\n      <td>1.046953</td>\n      <td>1.459836</td>\n      <td>1.031648</td>\n      <td>-0.028930</td>\n      <td>2.157826</td>\n      <td>-0.343828</td>\n      <td>-0.469236</td>\n      <td>0.056543</td>\n      <td>-0.387562</td>\n      <td>0.156192</td>\n      <td>1.490696</td>\n      <td>-0.293047</td>\n      <td>2.329027</td>\n      <td>1.465527</td>\n      <td>0.566602</td>\n      <td>-0.391660</td>\n      <td>1.449089</td>\n      <td>0.272126</td>\n      <td>-1.074912</td>\n      <td>0.257190</td>\n      <td>-0.060788</td>\n      <td>0.274173</td>\n      <td>-0.333335</td>\n      <td>-0.045031</td>\n      <td>-0.495106</td>\n      <td>2.218305</td>\n      <td>-0.580028</td>\n      <td>-1.048558</td>\n      <td>-0.918042</td>\n      <td>0.879541</td>\n    </tr>\n    <tr>\n      <th>374</th>\n      <td>-0.365975</td>\n      <td>-0.299378</td>\n      <td>-0.733296</td>\n      <td>-0.583317</td>\n      <td>-0.076523</td>\n      <td>-1.306708</td>\n      <td>-0.725409</td>\n      <td>-1.175122</td>\n      <td>-0.354925</td>\n      <td>-1.034147</td>\n      <td>-0.220787</td>\n      <td>-0.936399</td>\n      <td>-0.171221</td>\n      <td>-0.548400</td>\n      <td>-0.889447</td>\n      <td>-0.750539</td>\n      <td>-0.240808</td>\n      <td>0.661295</td>\n      <td>-0.560866</td>\n      <td>0.023544</td>\n      <td>-0.717713</td>\n      <td>-0.970275</td>\n      <td>-1.475124</td>\n      <td>-0.963009</td>\n      <td>-0.823867</td>\n      <td>-0.124452</td>\n      <td>-1.047116</td>\n      <td>-0.641087</td>\n      <td>-1.180785</td>\n      <td>-0.583788</td>\n    </tr>\n    <tr>\n      <th>375</th>\n      <td>-0.428000</td>\n      <td>-0.468703</td>\n      <td>-0.823522</td>\n      <td>-0.882078</td>\n      <td>-0.243645</td>\n      <td>-1.282179</td>\n      <td>1.471767</td>\n      <td>-1.218580</td>\n      <td>-0.046453</td>\n      <td>-0.975112</td>\n      <td>-0.386125</td>\n      <td>-1.024205</td>\n      <td>-0.448672</td>\n      <td>-0.529498</td>\n      <td>-0.832360</td>\n      <td>-1.355292</td>\n      <td>-0.442476</td>\n      <td>0.497894</td>\n      <td>-0.866878</td>\n      <td>1.120394</td>\n      <td>-0.411399</td>\n      <td>-1.014445</td>\n      <td>-0.715230</td>\n      <td>-1.074183</td>\n      <td>-1.023591</td>\n      <td>-0.388783</td>\n      <td>-0.983080</td>\n      <td>-1.211546</td>\n      <td>-0.775876</td>\n      <td>-0.661478</td>\n    </tr>\n    <tr>\n      <th>376</th>\n      <td>0.155035</td>\n      <td>-1.024175</td>\n      <td>-0.548139</td>\n      <td>-0.885273</td>\n      <td>-0.824272</td>\n      <td>1.171664</td>\n      <td>-0.900296</td>\n      <td>0.141030</td>\n      <td>1.856042</td>\n      <td>1.862988</td>\n      <td>-0.833967</td>\n      <td>0.247202</td>\n      <td>-1.000385</td>\n      <td>-0.454731</td>\n      <td>-0.425181</td>\n      <td>1.689808</td>\n      <td>-0.844748</td>\n      <td>0.454994</td>\n      <td>1.735903</td>\n      <td>-1.134242</td>\n      <td>-0.958052</td>\n      <td>-0.226137</td>\n      <td>-0.784595</td>\n      <td>-1.369985</td>\n      <td>1.179192</td>\n      <td>-0.801606</td>\n      <td>0.309701</td>\n      <td>-1.204611</td>\n      <td>1.450358</td>\n      <td>-0.206238</td>\n    </tr>\n    <tr>\n      <th>377</th>\n      <td>0.981517</td>\n      <td>0.076654</td>\n      <td>0.123022</td>\n      <td>1.291531</td>\n      <td>-0.259957</td>\n      <td>0.807008</td>\n      <td>-0.112072</td>\n      <td>0.626410</td>\n      <td>-0.395489</td>\n      <td>-0.151031</td>\n      <td>0.266695</td>\n      <td>1.089637</td>\n      <td>-0.818607</td>\n      <td>0.302603</td>\n      <td>0.659568</td>\n      <td>1.544137</td>\n      <td>-0.056324</td>\n      <td>-1.037542</td>\n      <td>2.653604</td>\n      <td>0.465766</td>\n      <td>1.563146</td>\n      <td>0.623113</td>\n      <td>1.942449</td>\n      <td>1.715090</td>\n      <td>1.657088</td>\n      <td>-0.156386</td>\n      <td>2.544192</td>\n      <td>0.622939</td>\n      <td>0.983352</td>\n      <td>0.546881</td>\n    </tr>\n  </tbody>\n</table>\n<p>378 rows × 30 columns</p>\n</div>"
     },
     "execution_count": 57,
     "metadata": {},
     "output_type": "execute_result"
    }
   ],
   "source": [
    "data"
   ],
   "metadata": {
    "collapsed": false,
    "pycharm": {
     "name": "#%%\n"
    }
   }
  },
  {
   "cell_type": "code",
   "execution_count": null,
   "outputs": [],
   "source": [],
   "metadata": {
    "collapsed": false,
    "pycharm": {
     "name": "#%%\n"
    }
   }
  }
 ],
 "metadata": {
  "kernelspec": {
   "display_name": "Python 3.9.7 ('venv': venv)",
   "language": "python",
   "name": "python3"
  },
  "language_info": {
   "codemirror_mode": {
    "name": "ipython",
    "version": 3
   },
   "file_extension": ".py",
   "mimetype": "text/x-python",
   "name": "python",
   "nbconvert_exporter": "python",
   "pygments_lexer": "ipython3",
   "version": "3.9.7"
  },
  "orig_nbformat": 4,
  "vscode": {
   "interpreter": {
    "hash": "bdd507b79a41a96d8cd42222f7b232718c325c809eb9bc7d185aae1f2d631536"
   }
  }
 },
 "nbformat": 4,
 "nbformat_minor": 2
}